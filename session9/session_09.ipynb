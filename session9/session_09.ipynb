{
  "cells": [
    {
      "cell_type": "markdown",
      "metadata": {
        "id": "3OQPlLj8t79j"
      },
      "source": [
        "## Utils"
      ]
    },
    {
      "cell_type": "code",
      "execution_count": 1,
      "metadata": {
        "id": "RdHNcy5jt79j"
      },
      "outputs": [],
      "source": [
        "import matplotlib.pyplot as plt\n",
        "import numpy as np\n",
        "\n",
        "\n",
        "def imshow(img):\n",
        "    npimg = denormalize(img)\n",
        "    plt.imsave(\"matplotlib.png\", npimg, cmap=\"gray\")\n",
        "    # plt.imshow(npimg, cmap=\"gray\") # Not working on my WSL2 on Windows 11\n",
        "\n",
        "\n",
        "def denormalize(img):\n",
        "    channel_means = (0.4914, 0.4822, 0.4465)\n",
        "    channel_stdevs = (0.2470, 0.2435, 0.2616)\n",
        "    img = img.numpy().astype(dtype=np.float32)\n",
        "\n",
        "    for i in range(img.shape[0]):\n",
        "        img[i] = (img[i] * channel_stdevs[i]) + channel_means[i]\n",
        "\n",
        "    return np.transpose(img, (1, 2, 0))\n"
      ]
    },
    {
      "cell_type": "markdown",
      "metadata": {
        "id": "Es6weYkct79j"
      },
      "source": [
        "## Transformer"
      ]
    },
    {
      "cell_type": "code",
      "execution_count": 2,
      "metadata": {
        "id": "YMsncbH7t79j"
      },
      "outputs": [],
      "source": [
        "from albumentations import (\n",
        "    Compose,\n",
        "    Normalize,\n",
        "    HorizontalFlip,\n",
        "    CoarseDropout,\n",
        "    ShiftScaleRotate,\n",
        ")\n",
        "from albumentations.pytorch.transforms import ToTensorV2\n",
        "import numpy as np\n",
        "\n",
        "\n",
        "class Transforms:\n",
        "    def __init__(self, means, stds, train=True):\n",
        "        if train:\n",
        "            self.transformations = Compose(\n",
        "                [\n",
        "                    HorizontalFlip(),\n",
        "                    ShiftScaleRotate(),\n",
        "                    CoarseDropout(\n",
        "                        min_holes=1,\n",
        "                        max_holes=1,\n",
        "                        min_height=16,\n",
        "                        max_height=16,\n",
        "                        min_width=16,\n",
        "                        max_width=16,\n",
        "                        fill_value=[x * 255 for x in means],  # type: ignore\n",
        "                        mask_fill_value=None,\n",
        "                    ),\n",
        "                    Normalize(mean=means, std=stds),\n",
        "                    ToTensorV2(),\n",
        "                ]\n",
        "            )\n",
        "        else:\n",
        "            self.transformations = Compose(\n",
        "                [\n",
        "                    Normalize(mean=means, std=stds),\n",
        "                    ToTensorV2(),\n",
        "                ]\n",
        "            )\n",
        "\n",
        "    def __call__(self, img):\n",
        "        return self.transformations(image=np.array(img))[\"image\"]\n"
      ]
    },
    {
      "cell_type": "markdown",
      "metadata": {
        "id": "IFvPg7Kat79k"
      },
      "source": [
        "## Data Loader"
      ]
    },
    {
      "cell_type": "code",
      "execution_count": 3,
      "metadata": {
        "id": "uf8yqWr0t79k"
      },
      "outputs": [],
      "source": [
        "from torch.utils.data import DataLoader\n",
        "from torchvision import datasets\n",
        "\n",
        "import numpy as np\n",
        "\n",
        "\n",
        "class Cifar10DataLoader:\n",
        "    def __init__(self, batch_size=128, is_cuda_available=False) -> None:\n",
        "        self.batch_size = batch_size\n",
        "        self.dataloader_args = {\"shuffle\": True, \"batch_size\": self.batch_size}\n",
        "        self.means = [0.4914, 0.4822, 0.4465]\n",
        "        self.stds = [0.2470, 0.2435, 0.2616]\n",
        "\n",
        "        if is_cuda_available:\n",
        "            self.dataloader_args[\"num_workers\"] = 2\n",
        "            self.dataloader_args[\"pin_memory\"] = True\n",
        "\n",
        "        self.classes = (\n",
        "            \"plane\",\n",
        "            \"car\",\n",
        "            \"bird\",\n",
        "            \"cat\",\n",
        "            \"deer\",\n",
        "            \"dog\",\n",
        "            \"frog\",\n",
        "            \"horse\",\n",
        "            \"ship\",\n",
        "            \"truck\",\n",
        "        )\n",
        "\n",
        "    def get_dataset(self, train=True):\n",
        "        return datasets.CIFAR10(\n",
        "            \"./data\",\n",
        "            train=train,\n",
        "            transform=Transforms(self.means, self.stds, train),\n",
        "            download=True,\n",
        "        )\n",
        "\n",
        "    def get_loader(self, train=True):\n",
        "        return DataLoader(self.get_dataset(train), **self.dataloader_args)\n",
        "\n",
        "    def get_classes(self):\n",
        "        return self.classes\n"
      ]
    },
    {
      "cell_type": "markdown",
      "metadata": {
        "id": "0-5Z9q-Ht79k"
      },
      "source": [
        "## Training and Testing"
      ]
    },
    {
      "cell_type": "code",
      "execution_count": 4,
      "metadata": {
        "id": "h077f2iOt79k"
      },
      "outputs": [],
      "source": [
        "import torch\n",
        "from tqdm import tqdm\n",
        "\n",
        "\n",
        "class Trainer:\n",
        "    def __init__(self) -> None:\n",
        "        self.train_losses = []\n",
        "        self.train_accuracies = []\n",
        "        self.epoch_train_accuracies = []\n",
        "\n",
        "    def train(self, model, dataloader, optimizer, criterion, device, epoch):\n",
        "        model.train()\n",
        "        correct = 0\n",
        "        processed = 0\n",
        "\n",
        "        pbar = tqdm(dataloader)\n",
        "\n",
        "        for batch_id, (inputs, targets) in enumerate(pbar):\n",
        "            # transfer to device\n",
        "            inputs, targets = inputs.to(device), targets.to(device)\n",
        "\n",
        "            # Initialize gradients to 0\n",
        "            optimizer.zero_grad()\n",
        "\n",
        "            # Prediction\n",
        "            outputs = model(inputs)\n",
        "\n",
        "            # Calculate loss\n",
        "            loss = criterion(outputs, targets)\n",
        "            self.train_losses.append(loss.item())\n",
        "\n",
        "            # Backpropagation\n",
        "            loss.backward()\n",
        "            optimizer.step()\n",
        "\n",
        "            pred = outputs.argmax(dim=1, keepdim=True)\n",
        "            correct += pred.eq(targets.view_as(pred)).sum().item()\n",
        "            processed += len(inputs)\n",
        "\n",
        "            pbar.set_description(\n",
        "                desc=f\"EPOCH = {epoch} | LR = {optimizer.param_groups[0]['lr']} | Loss = {loss.item():3.2f} | Batch = {batch_id} | Accuracy = {100*correct/processed:0.2f}\"\n",
        "            )\n",
        "            self.train_accuracies.append(100 * correct / processed)\n",
        "\n",
        "        # After all the batches are done, append accuracy for epoch\n",
        "        self.epoch_train_accuracies.append(100 * correct / processed)\n",
        "        return 100 * correct / processed\n",
        "\n",
        "\n",
        "class Tester:\n",
        "    def __init__(self) -> None:\n",
        "        self.test_losses = []\n",
        "        self.test_accuracies = []\n",
        "\n",
        "    def test(self, model, dataloader, criterion, device):\n",
        "        model.eval()\n",
        "\n",
        "        test_loss = 0\n",
        "        correct = 0\n",
        "\n",
        "        with torch.no_grad():\n",
        "            for inputs, targets in dataloader:\n",
        "                inputs, targets = inputs.to(device), targets.to(device)\n",
        "                output = model(inputs)\n",
        "                loss = criterion(output, targets)\n",
        "\n",
        "                test_loss += loss.item()\n",
        "\n",
        "                pred = output.argmax(\n",
        "                    dim=1, keepdim=True\n",
        "                )  # get the index of the max log-probability\n",
        "                correct += pred.eq(targets.view_as(pred)).sum().item()\n",
        "\n",
        "        test_loss /= len(dataloader.dataset)\n",
        "        self.test_losses.append(test_loss)\n",
        "\n",
        "        print(\n",
        "            \"Test set: Average loss: {:.4f}, Accuracy: {}/{} ({:.2f}%)\\n\".format(\n",
        "                test_loss,\n",
        "                correct,\n",
        "                len(dataloader.dataset),\n",
        "                100.0 * correct / len(dataloader.dataset),\n",
        "            )\n",
        "        )\n",
        "\n",
        "        self.test_accuracies.append(100.0 * correct / len(dataloader.dataset))\n"
      ]
    },
    {
      "cell_type": "markdown",
      "source": [
        "## Model"
      ],
      "metadata": {
        "id": "CgHg2MdmwAbd"
      }
    },
    {
      "cell_type": "markdown",
      "metadata": {
        "id": "l9_4AEPJt79k"
      },
      "source": []
    },
    {
      "cell_type": "code",
      "source": [
        "import torch.nn as nn\n",
        "\n",
        "\n",
        "class DepthwiseConv(nn.Module):\n",
        "    def __init__(\n",
        "        self,\n",
        "        in_channels: int,\n",
        "        out_channels: int,\n",
        "        padding: int = 0,\n",
        "        dilation: int = 1,\n",
        "    ) -> None:\n",
        "        super(DepthwiseConv, self).__init__()\n",
        "\n",
        "        self.conv_layer = nn.Sequential(\n",
        "            nn.Conv2d(\n",
        "                in_channels=in_channels,\n",
        "                out_channels=out_channels,\n",
        "                kernel_size=3,\n",
        "                padding=padding,\n",
        "                groups=in_channels,\n",
        "                dilation=dilation,\n",
        "                bias=False,\n",
        "            ),\n",
        "            nn.BatchNorm2d(out_channels),\n",
        "            nn.ReLU(),\n",
        "            nn.Conv2d(\n",
        "                in_channels=out_channels,\n",
        "                out_channels=out_channels,\n",
        "                kernel_size=1,\n",
        "                bias=False,\n",
        "            ),\n",
        "        )\n",
        "\n",
        "    def forward(self, x):\n",
        "        x = self.conv_layer(x)\n",
        "        return x\n",
        "\n",
        "\n",
        "class ConvLayer(nn.Module):\n",
        "    def __init__(\n",
        "        self,\n",
        "        in_channels: int,\n",
        "        out_channels: int,\n",
        "        padding: int = 0,\n",
        "        use_depthwise: bool = False,\n",
        "        use_skip: bool = False,\n",
        "        dilation: int = 1,\n",
        "        dropout: float = 0,\n",
        "    ) -> None:\n",
        "        super(ConvLayer, self).__init__()\n",
        "\n",
        "        self.use_skip = use_skip\n",
        "\n",
        "        if use_depthwise and in_channels == out_channels:\n",
        "            self.conv_layer = DepthwiseConv(\n",
        "                in_channels=in_channels,\n",
        "                out_channels=out_channels,\n",
        "                padding=padding,\n",
        "                dilation=dilation,\n",
        "            )\n",
        "        else:\n",
        "            self.conv_layer = nn.Conv2d(\n",
        "                in_channels=in_channels,\n",
        "                out_channels=out_channels,\n",
        "                kernel_size=3,\n",
        "                padding=padding,\n",
        "                dilation=dilation,\n",
        "                bias=False,\n",
        "            )\n",
        "\n",
        "        self.norm_layer = nn.BatchNorm2d(out_channels)\n",
        "\n",
        "        self.skip_layer = None\n",
        "\n",
        "        if use_skip and in_channels != out_channels:\n",
        "            self.skip_layer = nn.Conv2d(\n",
        "                in_channels=in_channels,\n",
        "                out_channels=out_channels,\n",
        "                kernel_size=1,\n",
        "                bias=False,\n",
        "            )\n",
        "\n",
        "        self.activation_layer = nn.ReLU()\n",
        "\n",
        "        self.drop_layer = None\n",
        "        if dropout > 0:\n",
        "            self.drop_layer = nn.Dropout(dropout)\n",
        "\n",
        "    def forward(self, x):\n",
        "        y = x\n",
        "        x = self.conv_layer(x)\n",
        "        x = self.norm_layer(x)\n",
        "\n",
        "        if self.use_skip:\n",
        "            x += y if self.skip_layer is None else self.skip_layer(y)\n",
        "\n",
        "        x = self.activation_layer(x)\n",
        "\n",
        "        if self.drop_layer is not None:\n",
        "            x = self.drop_layer(x)\n",
        "\n",
        "        return x\n",
        "\n",
        "\n",
        "class ConvBlock(nn.Module):\n",
        "    def __init__(\n",
        "        self,\n",
        "        in_channels: int,\n",
        "        out_channels: int,\n",
        "        num_layers: int = 1,\n",
        "        padding: int = 0,\n",
        "        use_depthwise: bool = False,\n",
        "        use_skip: bool = False,\n",
        "        dilation: int = 1,\n",
        "        dropout: float = 0,\n",
        "    ):\n",
        "        super(ConvBlock, self).__init__()\n",
        "\n",
        "        self.conv_block = nn.Sequential(\n",
        "            *[\n",
        "                ConvLayer(\n",
        "                    in_channels=(in_channels if i == 0 else out_channels),\n",
        "                    out_channels=out_channels,\n",
        "                    padding=padding,\n",
        "                    use_depthwise=use_depthwise,\n",
        "                    use_skip=use_skip,\n",
        "                    dilation=dilation,\n",
        "                    dropout=dropout,\n",
        "                )\n",
        "                for i in range(num_layers)\n",
        "            ]\n",
        "        )\n",
        "\n",
        "    def forward(self, x):\n",
        "        x = self.conv_block(x)\n",
        "        return x\n",
        "\n",
        "\n",
        "class TransBlock(nn.Module):\n",
        "    def __init__(\n",
        "        self,\n",
        "        in_channels: int,\n",
        "        out_channels: int,\n",
        "        padding: int = 0,\n",
        "        use_depthwise: bool = False,\n",
        "        use_skip: bool = False,\n",
        "        dilation: int = 1,\n",
        "        dropout: float = 0,\n",
        "    ):\n",
        "        super(TransBlock, self).__init__()\n",
        "\n",
        "        self.trans_block = ConvLayer(\n",
        "            in_channels=in_channels,\n",
        "            out_channels=out_channels,\n",
        "            padding=padding,\n",
        "            use_depthwise=use_depthwise,\n",
        "            use_skip=use_skip,\n",
        "            dilation=dilation,\n",
        "            dropout=dropout,\n",
        "        )\n",
        "\n",
        "    def forward(self, x):\n",
        "        x = self.trans_block(x)\n",
        "        return x\n",
        "\n",
        "\n",
        "class Net(nn.Module):\n",
        "    def __init__(\n",
        "        self,\n",
        "        dropout: float = 0,\n",
        "        use_skip: bool = False,\n",
        "    ):\n",
        "        super(Net, self).__init__()\n",
        "\n",
        "        self.dropout = dropout\n",
        "\n",
        "        self.conv_block1 = ConvBlock(\n",
        "            in_channels=3,\n",
        "            out_channels=25,\n",
        "            padding=1,\n",
        "            use_depthwise=True,\n",
        "            use_skip=False,\n",
        "            num_layers=2,\n",
        "            dropout=self.dropout,\n",
        "        )\n",
        "        self.trans_block1 = TransBlock(\n",
        "            in_channels=25,\n",
        "            out_channels=32,\n",
        "            padding=0,\n",
        "            use_depthwise=False,\n",
        "            use_skip=False,\n",
        "            dilation=1,\n",
        "            dropout=self.dropout,\n",
        "        )\n",
        "        self.conv_block2 = ConvBlock(\n",
        "            in_channels=32,\n",
        "            out_channels=32,\n",
        "            padding=1,\n",
        "            use_depthwise=True,\n",
        "            use_skip=use_skip,\n",
        "            num_layers=2,\n",
        "            dropout=self.dropout,\n",
        "        )\n",
        "        self.trans_block2 = TransBlock(\n",
        "            in_channels=32,\n",
        "            out_channels=65,\n",
        "            padding=0,\n",
        "            use_depthwise=False,\n",
        "            use_skip=False,\n",
        "            dilation=2,\n",
        "            dropout=self.dropout,\n",
        "        )\n",
        "        self.conv_block3 = ConvBlock(\n",
        "            in_channels=65,\n",
        "            out_channels=65,\n",
        "            padding=1,\n",
        "            use_depthwise=True,\n",
        "            use_skip=use_skip,\n",
        "            num_layers=2,\n",
        "            dropout=self.dropout,\n",
        "        )\n",
        "        self.trans_block3 = TransBlock(\n",
        "            in_channels=65,\n",
        "            out_channels=95,\n",
        "            padding=0,\n",
        "            use_depthwise=False,\n",
        "            use_skip=False,\n",
        "            dilation=4,\n",
        "            dropout=self.dropout,\n",
        "        )\n",
        "        self.conv_block4 = ConvBlock(\n",
        "            in_channels=95,\n",
        "            out_channels=95,\n",
        "            padding=1,\n",
        "            use_depthwise=True,\n",
        "            use_skip=use_skip,\n",
        "            num_layers=2,\n",
        "            dropout=self.dropout,\n",
        "        )\n",
        "        self.trans_block4 = TransBlock(\n",
        "            in_channels=95,\n",
        "            out_channels=95,\n",
        "            padding=0,\n",
        "            use_depthwise=False,\n",
        "            use_skip=False,\n",
        "            dilation=8,\n",
        "            dropout=0,\n",
        "        )\n",
        "\n",
        "        self.out_block = nn.Sequential(\n",
        "            nn.AdaptiveAvgPool2d(1),\n",
        "            nn.Conv2d(95, 10, 1, bias=True),\n",
        "            nn.Flatten(),\n",
        "            nn.LogSoftmax(dim=-1),\n",
        "        )\n",
        "\n",
        "    def forward(self, x):\n",
        "        x = self.conv_block1(x)\n",
        "        x = self.trans_block1(x)\n",
        "        x = self.conv_block2(x)\n",
        "        x = self.trans_block2(x)\n",
        "        x = self.conv_block3(x)\n",
        "        x = self.trans_block3(x)\n",
        "        x = self.conv_block4(x)\n",
        "        x = self.trans_block4(x)\n",
        "        x = self.out_block(x)\n",
        "\n",
        "        return x\n"
      ],
      "metadata": {
        "id": "9TEyVnHKv_z4"
      },
      "execution_count": 5,
      "outputs": []
    },
    {
      "cell_type": "markdown",
      "metadata": {
        "id": "oxzABB95KQaW"
      },
      "source": [
        "# **Model Summary**\n"
      ]
    },
    {
      "cell_type": "code",
      "execution_count": 8,
      "metadata": {
        "colab": {
          "base_uri": "https://localhost:8080/"
        },
        "id": "-yVpodAMpoCi",
        "outputId": "eddd1867-57b3-4657-9d13-110e1ca573f8"
      },
      "outputs": [
        {
          "output_type": "execute_result",
          "data": {
            "text/plain": [
              "============================================================================================================================================\n",
              "Layer (type (var_name))                            Kernel Shape       Input Shape        Output Shape       Param #            Trainable\n",
              "============================================================================================================================================\n",
              "Net (Net)                                          --                 [2, 3, 32, 32]     [2, 10]            --                 True\n",
              "├─ConvBlock (conv_block1)                          --                 [2, 3, 32, 32]     [2, 25, 32, 32]    --                 True\n",
              "│    └─Sequential (conv_block)                     --                 [2, 3, 32, 32]     [2, 25, 32, 32]    --                 True\n",
              "│    │    └─ConvLayer (0)                          --                 [2, 3, 32, 32]     [2, 25, 32, 32]    --                 True\n",
              "│    │    │    └─Conv2d (conv_layer)               [3, 3]             [2, 3, 32, 32]     [2, 25, 32, 32]    675                True\n",
              "│    │    │    └─BatchNorm2d (norm_layer)          --                 [2, 25, 32, 32]    [2, 25, 32, 32]    50                 True\n",
              "│    │    │    └─ReLU (activation_layer)           --                 [2, 25, 32, 32]    [2, 25, 32, 32]    --                 --\n",
              "│    │    └─ConvLayer (1)                          --                 [2, 25, 32, 32]    [2, 25, 32, 32]    --                 True\n",
              "│    │    │    └─DepthwiseConv (conv_layer)        --                 [2, 25, 32, 32]    [2, 25, 32, 32]    900                True\n",
              "│    │    │    └─BatchNorm2d (norm_layer)          --                 [2, 25, 32, 32]    [2, 25, 32, 32]    50                 True\n",
              "│    │    │    └─ReLU (activation_layer)           --                 [2, 25, 32, 32]    [2, 25, 32, 32]    --                 --\n",
              "├─TransBlock (trans_block1)                        --                 [2, 25, 32, 32]    [2, 32, 30, 30]    --                 True\n",
              "│    └─ConvLayer (trans_block)                     --                 [2, 25, 32, 32]    [2, 32, 30, 30]    --                 True\n",
              "│    │    └─Conv2d (conv_layer)                    [3, 3]             [2, 25, 32, 32]    [2, 32, 30, 30]    7,200              True\n",
              "│    │    └─BatchNorm2d (norm_layer)               --                 [2, 32, 30, 30]    [2, 32, 30, 30]    64                 True\n",
              "│    │    └─ReLU (activation_layer)                --                 [2, 32, 30, 30]    [2, 32, 30, 30]    --                 --\n",
              "├─ConvBlock (conv_block2)                          --                 [2, 32, 30, 30]    [2, 32, 30, 30]    --                 True\n",
              "│    └─Sequential (conv_block)                     --                 [2, 32, 30, 30]    [2, 32, 30, 30]    --                 True\n",
              "│    │    └─ConvLayer (0)                          --                 [2, 32, 30, 30]    [2, 32, 30, 30]    --                 True\n",
              "│    │    │    └─DepthwiseConv (conv_layer)        --                 [2, 32, 30, 30]    [2, 32, 30, 30]    1,376              True\n",
              "│    │    │    └─BatchNorm2d (norm_layer)          --                 [2, 32, 30, 30]    [2, 32, 30, 30]    64                 True\n",
              "│    │    │    └─ReLU (activation_layer)           --                 [2, 32, 30, 30]    [2, 32, 30, 30]    --                 --\n",
              "│    │    └─ConvLayer (1)                          --                 [2, 32, 30, 30]    [2, 32, 30, 30]    --                 True\n",
              "│    │    │    └─DepthwiseConv (conv_layer)        --                 [2, 32, 30, 30]    [2, 32, 30, 30]    1,376              True\n",
              "│    │    │    └─BatchNorm2d (norm_layer)          --                 [2, 32, 30, 30]    [2, 32, 30, 30]    64                 True\n",
              "│    │    │    └─ReLU (activation_layer)           --                 [2, 32, 30, 30]    [2, 32, 30, 30]    --                 --\n",
              "├─TransBlock (trans_block2)                        --                 [2, 32, 30, 30]    [2, 65, 26, 26]    --                 True\n",
              "│    └─ConvLayer (trans_block)                     --                 [2, 32, 30, 30]    [2, 65, 26, 26]    --                 True\n",
              "│    │    └─Conv2d (conv_layer)                    [3, 3]             [2, 32, 30, 30]    [2, 65, 26, 26]    18,720             True\n",
              "│    │    └─BatchNorm2d (norm_layer)               --                 [2, 65, 26, 26]    [2, 65, 26, 26]    130                True\n",
              "│    │    └─ReLU (activation_layer)                --                 [2, 65, 26, 26]    [2, 65, 26, 26]    --                 --\n",
              "├─ConvBlock (conv_block3)                          --                 [2, 65, 26, 26]    [2, 65, 26, 26]    --                 True\n",
              "│    └─Sequential (conv_block)                     --                 [2, 65, 26, 26]    [2, 65, 26, 26]    --                 True\n",
              "│    │    └─ConvLayer (0)                          --                 [2, 65, 26, 26]    [2, 65, 26, 26]    --                 True\n",
              "│    │    │    └─DepthwiseConv (conv_layer)        --                 [2, 65, 26, 26]    [2, 65, 26, 26]    4,940              True\n",
              "│    │    │    └─BatchNorm2d (norm_layer)          --                 [2, 65, 26, 26]    [2, 65, 26, 26]    130                True\n",
              "│    │    │    └─ReLU (activation_layer)           --                 [2, 65, 26, 26]    [2, 65, 26, 26]    --                 --\n",
              "│    │    └─ConvLayer (1)                          --                 [2, 65, 26, 26]    [2, 65, 26, 26]    --                 True\n",
              "│    │    │    └─DepthwiseConv (conv_layer)        --                 [2, 65, 26, 26]    [2, 65, 26, 26]    4,940              True\n",
              "│    │    │    └─BatchNorm2d (norm_layer)          --                 [2, 65, 26, 26]    [2, 65, 26, 26]    130                True\n",
              "│    │    │    └─ReLU (activation_layer)           --                 [2, 65, 26, 26]    [2, 65, 26, 26]    --                 --\n",
              "├─TransBlock (trans_block3)                        --                 [2, 65, 26, 26]    [2, 95, 18, 18]    --                 True\n",
              "│    └─ConvLayer (trans_block)                     --                 [2, 65, 26, 26]    [2, 95, 18, 18]    --                 True\n",
              "│    │    └─Conv2d (conv_layer)                    [3, 3]             [2, 65, 26, 26]    [2, 95, 18, 18]    55,575             True\n",
              "│    │    └─BatchNorm2d (norm_layer)               --                 [2, 95, 18, 18]    [2, 95, 18, 18]    190                True\n",
              "│    │    └─ReLU (activation_layer)                --                 [2, 95, 18, 18]    [2, 95, 18, 18]    --                 --\n",
              "├─ConvBlock (conv_block4)                          --                 [2, 95, 18, 18]    [2, 95, 18, 18]    --                 True\n",
              "│    └─Sequential (conv_block)                     --                 [2, 95, 18, 18]    [2, 95, 18, 18]    --                 True\n",
              "│    │    └─ConvLayer (0)                          --                 [2, 95, 18, 18]    [2, 95, 18, 18]    --                 True\n",
              "│    │    │    └─DepthwiseConv (conv_layer)        --                 [2, 95, 18, 18]    [2, 95, 18, 18]    10,070             True\n",
              "│    │    │    └─BatchNorm2d (norm_layer)          --                 [2, 95, 18, 18]    [2, 95, 18, 18]    190                True\n",
              "│    │    │    └─ReLU (activation_layer)           --                 [2, 95, 18, 18]    [2, 95, 18, 18]    --                 --\n",
              "│    │    └─ConvLayer (1)                          --                 [2, 95, 18, 18]    [2, 95, 18, 18]    --                 True\n",
              "│    │    │    └─DepthwiseConv (conv_layer)        --                 [2, 95, 18, 18]    [2, 95, 18, 18]    10,070             True\n",
              "│    │    │    └─BatchNorm2d (norm_layer)          --                 [2, 95, 18, 18]    [2, 95, 18, 18]    190                True\n",
              "│    │    │    └─ReLU (activation_layer)           --                 [2, 95, 18, 18]    [2, 95, 18, 18]    --                 --\n",
              "├─TransBlock (trans_block4)                        --                 [2, 95, 18, 18]    [2, 95, 2, 2]      --                 True\n",
              "│    └─ConvLayer (trans_block)                     --                 [2, 95, 18, 18]    [2, 95, 2, 2]      --                 True\n",
              "│    │    └─Conv2d (conv_layer)                    [3, 3]             [2, 95, 18, 18]    [2, 95, 2, 2]      81,225             True\n",
              "│    │    └─BatchNorm2d (norm_layer)               --                 [2, 95, 2, 2]      [2, 95, 2, 2]      190                True\n",
              "│    │    └─ReLU (activation_layer)                --                 [2, 95, 2, 2]      [2, 95, 2, 2]      --                 --\n",
              "├─Sequential (out_block)                           --                 [2, 95, 2, 2]      [2, 10]            --                 True\n",
              "│    └─AdaptiveAvgPool2d (0)                       --                 [2, 95, 2, 2]      [2, 95, 1, 1]      --                 --\n",
              "│    └─Conv2d (1)                                  [1, 1]             [2, 95, 1, 1]      [2, 10, 1, 1]      960                True\n",
              "│    └─Flatten (2)                                 --                 [2, 10, 1, 1]      [2, 10]            --                 --\n",
              "│    └─LogSoftmax (3)                              --                 [2, 10]            [2, 10]            --                 --\n",
              "============================================================================================================================================\n",
              "Total params: 199,469\n",
              "Trainable params: 199,469\n",
              "Non-trainable params: 0\n",
              "Total mult-adds (M): 108.60\n",
              "============================================================================================================================================\n",
              "Input size (MB): 0.02\n",
              "Forward/backward pass size (MB): 19.03\n",
              "Params size (MB): 0.80\n",
              "Estimated Total Size (MB): 19.86\n",
              "============================================================================================================================================"
            ]
          },
          "metadata": {},
          "execution_count": 8
        }
      ],
      "source": [
        "import torch\n",
        "from torchinfo import summary\n",
        "\n",
        "use_cuda = torch.cuda.is_available()\n",
        "device = torch.device(\"cuda\" if use_cuda else \"cpu\")\n",
        "\n",
        "model = Net().to(device)\n",
        "batch_size = 2\n",
        "summary(\n",
        "    model,\n",
        "    input_size=(batch_size, 3, 32, 32),\n",
        "    depth=4,\n",
        "    col_width=18,\n",
        "    col_names=[\n",
        "        \"kernel_size\",\n",
        "        \"input_size\",\n",
        "        \"output_size\",\n",
        "        \"num_params\",\n",
        "        \"trainable\",\n",
        "    ],\n",
        "    row_settings=[\"var_names\"],\n",
        ")"
      ]
    },
    {
      "cell_type": "markdown",
      "metadata": {
        "id": "lZdZQjbdJ0WE"
      },
      "source": [
        "# **Initializing Dataloaders for Training and Testing**\n"
      ]
    },
    {
      "cell_type": "code",
      "execution_count": 9,
      "metadata": {
        "colab": {
          "base_uri": "https://localhost:8080/"
        },
        "id": "ESGIkOOiJmCL",
        "outputId": "c48f0fd8-4ad2-44fe-ef0c-5fa804dbab7b"
      },
      "outputs": [
        {
          "output_type": "stream",
          "name": "stdout",
          "text": [
            "Downloading https://www.cs.toronto.edu/~kriz/cifar-10-python.tar.gz to ./data/cifar-10-python.tar.gz\n"
          ]
        },
        {
          "output_type": "stream",
          "name": "stderr",
          "text": [
            "100%|██████████| 170498071/170498071 [00:04<00:00, 35160901.88it/s]\n"
          ]
        },
        {
          "output_type": "stream",
          "name": "stdout",
          "text": [
            "Extracting ./data/cifar-10-python.tar.gz to ./data\n",
            "Files already downloaded and verified\n"
          ]
        }
      ],
      "source": [
        "cifar10 = Cifar10DataLoader(is_cuda_available=use_cuda)\n",
        "train_loader = cifar10.get_loader(True)\n",
        "test_loader = cifar10.get_loader(False)"
      ]
    },
    {
      "cell_type": "markdown",
      "metadata": {
        "id": "BACQM3uVKKsq"
      },
      "source": [
        "# **Training the model**\n"
      ]
    },
    {
      "cell_type": "code",
      "execution_count": 10,
      "metadata": {
        "colab": {
          "base_uri": "https://localhost:8080/"
        },
        "id": "kD3o8JbCBwo7",
        "outputId": "145bff35-45f1-4049-c346-9e9fd2865b82"
      },
      "outputs": [
        {
          "output_type": "stream",
          "name": "stderr",
          "text": [
            "\r  0%|          | 0/391 [00:00<?, ?it/s]/usr/lib/python3.10/multiprocessing/popen_fork.py:66: RuntimeWarning: os.fork() was called. os.fork() is incompatible with multithreaded code, and JAX is multithreaded, so this will likely lead to a deadlock.\n",
            "  self.pid = os.fork()\n",
            "EPOCH = 0 | LR = 0.001 | Loss = 1.95 | Batch = 390 | Accuracy = 19.86: 100%|██████████| 391/391 [00:25<00:00, 15.30it/s]\n"
          ]
        },
        {
          "output_type": "stream",
          "name": "stdout",
          "text": [
            "Test set: Average loss: 0.0150, Accuracy: 3011/10000 (30.11%)\n",
            "\n"
          ]
        },
        {
          "output_type": "stream",
          "name": "stderr",
          "text": [
            "EPOCH = 1 | LR = 0.001 | Loss = 1.72 | Batch = 390 | Accuracy = 32.22: 100%|██████████| 391/391 [00:22<00:00, 17.19it/s]\n"
          ]
        },
        {
          "output_type": "stream",
          "name": "stdout",
          "text": [
            "Test set: Average loss: 0.0132, Accuracy: 3840/10000 (38.40%)\n",
            "\n"
          ]
        },
        {
          "output_type": "stream",
          "name": "stderr",
          "text": [
            "EPOCH = 2 | LR = 0.001 | Loss = 1.79 | Batch = 390 | Accuracy = 38.10: 100%|██████████| 391/391 [00:23<00:00, 16.94it/s]\n"
          ]
        },
        {
          "output_type": "stream",
          "name": "stdout",
          "text": [
            "Test set: Average loss: 0.0122, Accuracy: 4291/10000 (42.91%)\n",
            "\n"
          ]
        },
        {
          "output_type": "stream",
          "name": "stderr",
          "text": [
            "EPOCH = 3 | LR = 0.001 | Loss = 1.53 | Batch = 390 | Accuracy = 40.92: 100%|██████████| 391/391 [00:23<00:00, 16.43it/s]\n"
          ]
        },
        {
          "output_type": "stream",
          "name": "stdout",
          "text": [
            "Test set: Average loss: 0.0115, Accuracy: 4666/10000 (46.66%)\n",
            "\n"
          ]
        },
        {
          "output_type": "stream",
          "name": "stderr",
          "text": [
            "EPOCH = 4 | LR = 0.001 | Loss = 1.35 | Batch = 390 | Accuracy = 43.03: 100%|██████████| 391/391 [00:22<00:00, 17.07it/s]\n"
          ]
        },
        {
          "output_type": "stream",
          "name": "stdout",
          "text": [
            "Test set: Average loss: 0.0111, Accuracy: 4855/10000 (48.55%)\n",
            "\n"
          ]
        },
        {
          "output_type": "stream",
          "name": "stderr",
          "text": [
            "EPOCH = 5 | LR = 0.001 | Loss = 1.38 | Batch = 390 | Accuracy = 44.31: 100%|██████████| 391/391 [00:23<00:00, 16.69it/s]\n"
          ]
        },
        {
          "output_type": "stream",
          "name": "stdout",
          "text": [
            "Test set: Average loss: 0.0108, Accuracy: 5062/10000 (50.62%)\n",
            "\n"
          ]
        },
        {
          "output_type": "stream",
          "name": "stderr",
          "text": [
            "EPOCH = 6 | LR = 0.001 | Loss = 1.57 | Batch = 390 | Accuracy = 46.21: 100%|██████████| 391/391 [00:23<00:00, 16.93it/s]\n"
          ]
        },
        {
          "output_type": "stream",
          "name": "stdout",
          "text": [
            "Test set: Average loss: 0.0106, Accuracy: 5125/10000 (51.25%)\n",
            "\n"
          ]
        },
        {
          "output_type": "stream",
          "name": "stderr",
          "text": [
            "EPOCH = 7 | LR = 0.001 | Loss = 1.41 | Batch = 390 | Accuracy = 47.66: 100%|██████████| 391/391 [00:23<00:00, 16.97it/s]\n"
          ]
        },
        {
          "output_type": "stream",
          "name": "stdout",
          "text": [
            "Test set: Average loss: 0.0100, Accuracy: 5387/10000 (53.87%)\n",
            "\n"
          ]
        },
        {
          "output_type": "stream",
          "name": "stderr",
          "text": [
            "EPOCH = 8 | LR = 0.001 | Loss = 1.26 | Batch = 390 | Accuracy = 48.86: 100%|██████████| 391/391 [00:22<00:00, 17.07it/s]\n"
          ]
        },
        {
          "output_type": "stream",
          "name": "stdout",
          "text": [
            "Test set: Average loss: 0.0096, Accuracy: 5585/10000 (55.85%)\n",
            "\n"
          ]
        },
        {
          "output_type": "stream",
          "name": "stderr",
          "text": [
            "EPOCH = 9 | LR = 0.001 | Loss = 1.18 | Batch = 390 | Accuracy = 50.07: 100%|██████████| 391/391 [00:22<00:00, 17.06it/s]\n"
          ]
        },
        {
          "output_type": "stream",
          "name": "stdout",
          "text": [
            "Test set: Average loss: 0.0095, Accuracy: 5651/10000 (56.51%)\n",
            "\n"
          ]
        },
        {
          "output_type": "stream",
          "name": "stderr",
          "text": [
            "EPOCH = 10 | LR = 0.001 | Loss = 1.37 | Batch = 390 | Accuracy = 51.06: 100%|██████████| 391/391 [00:22<00:00, 17.04it/s]\n"
          ]
        },
        {
          "output_type": "stream",
          "name": "stdout",
          "text": [
            "Test set: Average loss: 0.0091, Accuracy: 5816/10000 (58.16%)\n",
            "\n"
          ]
        },
        {
          "output_type": "stream",
          "name": "stderr",
          "text": [
            "EPOCH = 11 | LR = 0.001 | Loss = 1.37 | Batch = 390 | Accuracy = 52.10: 100%|██████████| 391/391 [00:22<00:00, 17.29it/s]\n"
          ]
        },
        {
          "output_type": "stream",
          "name": "stdout",
          "text": [
            "Test set: Average loss: 0.0089, Accuracy: 5936/10000 (59.36%)\n",
            "\n"
          ]
        },
        {
          "output_type": "stream",
          "name": "stderr",
          "text": [
            "EPOCH = 12 | LR = 0.001 | Loss = 1.22 | Batch = 390 | Accuracy = 53.46: 100%|██████████| 391/391 [00:22<00:00, 17.37it/s]\n"
          ]
        },
        {
          "output_type": "stream",
          "name": "stdout",
          "text": [
            "Test set: Average loss: 0.0087, Accuracy: 6028/10000 (60.28%)\n",
            "\n"
          ]
        },
        {
          "output_type": "stream",
          "name": "stderr",
          "text": [
            "EPOCH = 13 | LR = 0.001 | Loss = 1.20 | Batch = 390 | Accuracy = 54.39: 100%|██████████| 391/391 [00:22<00:00, 17.19it/s]\n"
          ]
        },
        {
          "output_type": "stream",
          "name": "stdout",
          "text": [
            "Test set: Average loss: 0.0086, Accuracy: 6053/10000 (60.53%)\n",
            "\n"
          ]
        },
        {
          "output_type": "stream",
          "name": "stderr",
          "text": [
            "EPOCH = 14 | LR = 0.001 | Loss = 1.18 | Batch = 390 | Accuracy = 54.97: 100%|██████████| 391/391 [00:23<00:00, 16.98it/s]\n"
          ]
        },
        {
          "output_type": "stream",
          "name": "stdout",
          "text": [
            "Test set: Average loss: 0.0084, Accuracy: 6170/10000 (61.70%)\n",
            "\n"
          ]
        },
        {
          "output_type": "stream",
          "name": "stderr",
          "text": [
            "EPOCH = 15 | LR = 0.001 | Loss = 1.23 | Batch = 390 | Accuracy = 55.43: 100%|██████████| 391/391 [00:22<00:00, 17.18it/s]\n"
          ]
        },
        {
          "output_type": "stream",
          "name": "stdout",
          "text": [
            "Test set: Average loss: 0.0081, Accuracy: 6286/10000 (62.86%)\n",
            "\n"
          ]
        },
        {
          "output_type": "stream",
          "name": "stderr",
          "text": [
            "EPOCH = 16 | LR = 0.001 | Loss = 1.38 | Batch = 390 | Accuracy = 55.98: 100%|██████████| 391/391 [00:22<00:00, 17.10it/s]\n"
          ]
        },
        {
          "output_type": "stream",
          "name": "stdout",
          "text": [
            "Test set: Average loss: 0.0080, Accuracy: 6342/10000 (63.42%)\n",
            "\n"
          ]
        },
        {
          "output_type": "stream",
          "name": "stderr",
          "text": [
            "EPOCH = 17 | LR = 0.001 | Loss = 1.13 | Batch = 390 | Accuracy = 57.14: 100%|██████████| 391/391 [00:22<00:00, 17.29it/s]\n"
          ]
        },
        {
          "output_type": "stream",
          "name": "stdout",
          "text": [
            "Test set: Average loss: 0.0078, Accuracy: 6443/10000 (64.43%)\n",
            "\n"
          ]
        },
        {
          "output_type": "stream",
          "name": "stderr",
          "text": [
            "EPOCH = 18 | LR = 0.001 | Loss = 1.02 | Batch = 390 | Accuracy = 57.50: 100%|██████████| 391/391 [00:22<00:00, 17.27it/s]\n"
          ]
        },
        {
          "output_type": "stream",
          "name": "stdout",
          "text": [
            "Test set: Average loss: 0.0078, Accuracy: 6517/10000 (65.17%)\n",
            "\n"
          ]
        },
        {
          "output_type": "stream",
          "name": "stderr",
          "text": [
            "EPOCH = 19 | LR = 0.001 | Loss = 1.32 | Batch = 390 | Accuracy = 58.21: 100%|██████████| 391/391 [00:22<00:00, 17.29it/s]\n"
          ]
        },
        {
          "output_type": "stream",
          "name": "stdout",
          "text": [
            "Test set: Average loss: 0.0077, Accuracy: 6491/10000 (64.91%)\n",
            "\n"
          ]
        },
        {
          "output_type": "stream",
          "name": "stderr",
          "text": [
            "EPOCH = 20 | LR = 0.001 | Loss = 1.11 | Batch = 390 | Accuracy = 58.80: 100%|██████████| 391/391 [00:22<00:00, 17.24it/s]\n"
          ]
        },
        {
          "output_type": "stream",
          "name": "stdout",
          "text": [
            "Test set: Average loss: 0.0076, Accuracy: 6548/10000 (65.48%)\n",
            "\n"
          ]
        },
        {
          "output_type": "stream",
          "name": "stderr",
          "text": [
            "EPOCH = 21 | LR = 0.001 | Loss = 1.08 | Batch = 390 | Accuracy = 59.21: 100%|██████████| 391/391 [00:22<00:00, 17.24it/s]\n"
          ]
        },
        {
          "output_type": "stream",
          "name": "stdout",
          "text": [
            "Test set: Average loss: 0.0074, Accuracy: 6633/10000 (66.33%)\n",
            "\n"
          ]
        },
        {
          "output_type": "stream",
          "name": "stderr",
          "text": [
            "EPOCH = 22 | LR = 0.001 | Loss = 0.95 | Batch = 390 | Accuracy = 60.11: 100%|██████████| 391/391 [00:22<00:00, 17.18it/s]\n"
          ]
        },
        {
          "output_type": "stream",
          "name": "stdout",
          "text": [
            "Test set: Average loss: 0.0074, Accuracy: 6673/10000 (66.73%)\n",
            "\n"
          ]
        },
        {
          "output_type": "stream",
          "name": "stderr",
          "text": [
            "EPOCH = 23 | LR = 0.001 | Loss = 1.21 | Batch = 390 | Accuracy = 60.60: 100%|██████████| 391/391 [00:22<00:00, 17.10it/s]\n"
          ]
        },
        {
          "output_type": "stream",
          "name": "stdout",
          "text": [
            "Test set: Average loss: 0.0071, Accuracy: 6801/10000 (68.01%)\n",
            "\n"
          ]
        },
        {
          "output_type": "stream",
          "name": "stderr",
          "text": [
            "EPOCH = 24 | LR = 0.001 | Loss = 1.07 | Batch = 390 | Accuracy = 61.03: 100%|██████████| 391/391 [00:23<00:00, 16.92it/s]\n"
          ]
        },
        {
          "output_type": "stream",
          "name": "stdout",
          "text": [
            "Test set: Average loss: 0.0070, Accuracy: 6884/10000 (68.84%)\n",
            "\n"
          ]
        },
        {
          "output_type": "stream",
          "name": "stderr",
          "text": [
            "EPOCH = 25 | LR = 0.001 | Loss = 1.11 | Batch = 390 | Accuracy = 61.48: 100%|██████████| 391/391 [00:23<00:00, 16.90it/s]\n"
          ]
        },
        {
          "output_type": "stream",
          "name": "stdout",
          "text": [
            "Test set: Average loss: 0.0069, Accuracy: 6917/10000 (69.17%)\n",
            "\n"
          ]
        },
        {
          "output_type": "stream",
          "name": "stderr",
          "text": [
            "EPOCH = 26 | LR = 0.001 | Loss = 1.41 | Batch = 390 | Accuracy = 62.10: 100%|██████████| 391/391 [00:23<00:00, 16.83it/s]\n"
          ]
        },
        {
          "output_type": "stream",
          "name": "stdout",
          "text": [
            "Test set: Average loss: 0.0068, Accuracy: 6965/10000 (69.65%)\n",
            "\n"
          ]
        },
        {
          "output_type": "stream",
          "name": "stderr",
          "text": [
            "EPOCH = 27 | LR = 0.001 | Loss = 0.90 | Batch = 390 | Accuracy = 62.46: 100%|██████████| 391/391 [00:23<00:00, 16.80it/s]\n"
          ]
        },
        {
          "output_type": "stream",
          "name": "stdout",
          "text": [
            "Test set: Average loss: 0.0068, Accuracy: 6949/10000 (69.49%)\n",
            "\n"
          ]
        },
        {
          "output_type": "stream",
          "name": "stderr",
          "text": [
            "EPOCH = 28 | LR = 0.001 | Loss = 1.12 | Batch = 390 | Accuracy = 62.73: 100%|██████████| 391/391 [00:23<00:00, 16.76it/s]\n"
          ]
        },
        {
          "output_type": "stream",
          "name": "stdout",
          "text": [
            "Test set: Average loss: 0.0068, Accuracy: 6926/10000 (69.26%)\n",
            "\n"
          ]
        },
        {
          "output_type": "stream",
          "name": "stderr",
          "text": [
            "EPOCH = 29 | LR = 0.001 | Loss = 0.76 | Batch = 390 | Accuracy = 62.85: 100%|██████████| 391/391 [00:23<00:00, 16.83it/s]\n"
          ]
        },
        {
          "output_type": "stream",
          "name": "stdout",
          "text": [
            "Test set: Average loss: 0.0066, Accuracy: 7080/10000 (70.80%)\n",
            "\n"
          ]
        },
        {
          "output_type": "stream",
          "name": "stderr",
          "text": [
            "EPOCH = 30 | LR = 0.001 | Loss = 0.95 | Batch = 390 | Accuracy = 63.33: 100%|██████████| 391/391 [00:23<00:00, 17.00it/s]\n"
          ]
        },
        {
          "output_type": "stream",
          "name": "stdout",
          "text": [
            "Test set: Average loss: 0.0065, Accuracy: 7066/10000 (70.66%)\n",
            "\n"
          ]
        },
        {
          "output_type": "stream",
          "name": "stderr",
          "text": [
            "EPOCH = 31 | LR = 0.001 | Loss = 0.98 | Batch = 390 | Accuracy = 63.80: 100%|██████████| 391/391 [00:23<00:00, 16.99it/s]\n"
          ]
        },
        {
          "output_type": "stream",
          "name": "stdout",
          "text": [
            "Test set: Average loss: 0.0065, Accuracy: 7104/10000 (71.04%)\n",
            "\n"
          ]
        },
        {
          "output_type": "stream",
          "name": "stderr",
          "text": [
            "EPOCH = 32 | LR = 0.001 | Loss = 0.80 | Batch = 390 | Accuracy = 64.34: 100%|██████████| 391/391 [00:23<00:00, 16.97it/s]\n"
          ]
        },
        {
          "output_type": "stream",
          "name": "stdout",
          "text": [
            "Test set: Average loss: 0.0063, Accuracy: 7132/10000 (71.32%)\n",
            "\n"
          ]
        },
        {
          "output_type": "stream",
          "name": "stderr",
          "text": [
            "EPOCH = 33 | LR = 0.001 | Loss = 1.00 | Batch = 390 | Accuracy = 64.39: 100%|██████████| 391/391 [00:23<00:00, 16.92it/s]\n"
          ]
        },
        {
          "output_type": "stream",
          "name": "stdout",
          "text": [
            "Test set: Average loss: 0.0063, Accuracy: 7193/10000 (71.93%)\n",
            "\n"
          ]
        },
        {
          "output_type": "stream",
          "name": "stderr",
          "text": [
            "EPOCH = 34 | LR = 0.001 | Loss = 0.81 | Batch = 390 | Accuracy = 64.50: 100%|██████████| 391/391 [00:23<00:00, 16.98it/s]\n"
          ]
        },
        {
          "output_type": "stream",
          "name": "stdout",
          "text": [
            "Test set: Average loss: 0.0063, Accuracy: 7211/10000 (72.11%)\n",
            "\n"
          ]
        },
        {
          "output_type": "stream",
          "name": "stderr",
          "text": [
            "EPOCH = 35 | LR = 0.001 | Loss = 0.95 | Batch = 390 | Accuracy = 65.38: 100%|██████████| 391/391 [00:22<00:00, 17.01it/s]\n"
          ]
        },
        {
          "output_type": "stream",
          "name": "stdout",
          "text": [
            "Test set: Average loss: 0.0062, Accuracy: 7229/10000 (72.29%)\n",
            "\n"
          ]
        },
        {
          "output_type": "stream",
          "name": "stderr",
          "text": [
            "EPOCH = 36 | LR = 0.001 | Loss = 1.23 | Batch = 390 | Accuracy = 65.47: 100%|██████████| 391/391 [00:22<00:00, 17.00it/s]\n"
          ]
        },
        {
          "output_type": "stream",
          "name": "stdout",
          "text": [
            "Test set: Average loss: 0.0061, Accuracy: 7247/10000 (72.47%)\n",
            "\n"
          ]
        },
        {
          "output_type": "stream",
          "name": "stderr",
          "text": [
            "EPOCH = 37 | LR = 0.001 | Loss = 0.83 | Batch = 390 | Accuracy = 65.49: 100%|██████████| 391/391 [00:22<00:00, 17.14it/s]\n"
          ]
        },
        {
          "output_type": "stream",
          "name": "stdout",
          "text": [
            "Test set: Average loss: 0.0061, Accuracy: 7297/10000 (72.97%)\n",
            "\n"
          ]
        },
        {
          "output_type": "stream",
          "name": "stderr",
          "text": [
            "EPOCH = 38 | LR = 0.001 | Loss = 1.07 | Batch = 390 | Accuracy = 66.00: 100%|██████████| 391/391 [00:22<00:00, 17.01it/s]\n"
          ]
        },
        {
          "output_type": "stream",
          "name": "stdout",
          "text": [
            "Test set: Average loss: 0.0060, Accuracy: 7300/10000 (73.00%)\n",
            "\n"
          ]
        },
        {
          "output_type": "stream",
          "name": "stderr",
          "text": [
            "EPOCH = 39 | LR = 0.001 | Loss = 0.88 | Batch = 390 | Accuracy = 66.52: 100%|██████████| 391/391 [00:22<00:00, 17.05it/s]\n"
          ]
        },
        {
          "output_type": "stream",
          "name": "stdout",
          "text": [
            "Test set: Average loss: 0.0060, Accuracy: 7300/10000 (73.00%)\n",
            "\n"
          ]
        },
        {
          "output_type": "stream",
          "name": "stderr",
          "text": [
            "EPOCH = 40 | LR = 0.001 | Loss = 0.81 | Batch = 390 | Accuracy = 66.63: 100%|██████████| 391/391 [00:22<00:00, 17.24it/s]\n"
          ]
        },
        {
          "output_type": "stream",
          "name": "stdout",
          "text": [
            "Test set: Average loss: 0.0059, Accuracy: 7358/10000 (73.58%)\n",
            "\n"
          ]
        },
        {
          "output_type": "stream",
          "name": "stderr",
          "text": [
            "EPOCH = 41 | LR = 0.001 | Loss = 1.04 | Batch = 390 | Accuracy = 66.68: 100%|██████████| 391/391 [00:22<00:00, 17.29it/s]\n"
          ]
        },
        {
          "output_type": "stream",
          "name": "stdout",
          "text": [
            "Test set: Average loss: 0.0059, Accuracy: 7387/10000 (73.87%)\n",
            "\n"
          ]
        },
        {
          "output_type": "stream",
          "name": "stderr",
          "text": [
            "EPOCH = 42 | LR = 0.001 | Loss = 1.04 | Batch = 390 | Accuracy = 67.16: 100%|██████████| 391/391 [00:22<00:00, 17.33it/s]\n"
          ]
        },
        {
          "output_type": "stream",
          "name": "stdout",
          "text": [
            "Test set: Average loss: 0.0058, Accuracy: 7404/10000 (74.04%)\n",
            "\n"
          ]
        },
        {
          "output_type": "stream",
          "name": "stderr",
          "text": [
            "EPOCH = 43 | LR = 0.001 | Loss = 0.86 | Batch = 390 | Accuracy = 67.48: 100%|██████████| 391/391 [00:22<00:00, 17.32it/s]\n"
          ]
        },
        {
          "output_type": "stream",
          "name": "stdout",
          "text": [
            "Test set: Average loss: 0.0058, Accuracy: 7434/10000 (74.34%)\n",
            "\n"
          ]
        },
        {
          "output_type": "stream",
          "name": "stderr",
          "text": [
            "EPOCH = 44 | LR = 0.001 | Loss = 0.95 | Batch = 390 | Accuracy = 67.23: 100%|██████████| 391/391 [00:22<00:00, 17.31it/s]\n"
          ]
        },
        {
          "output_type": "stream",
          "name": "stdout",
          "text": [
            "Test set: Average loss: 0.0058, Accuracy: 7428/10000 (74.28%)\n",
            "\n"
          ]
        },
        {
          "output_type": "stream",
          "name": "stderr",
          "text": [
            "EPOCH = 45 | LR = 0.001 | Loss = 0.83 | Batch = 390 | Accuracy = 67.39: 100%|██████████| 391/391 [00:22<00:00, 17.24it/s]\n"
          ]
        },
        {
          "output_type": "stream",
          "name": "stdout",
          "text": [
            "Test set: Average loss: 0.0056, Accuracy: 7490/10000 (74.90%)\n",
            "\n"
          ]
        },
        {
          "output_type": "stream",
          "name": "stderr",
          "text": [
            "EPOCH = 46 | LR = 0.001 | Loss = 0.86 | Batch = 390 | Accuracy = 68.01: 100%|██████████| 391/391 [00:22<00:00, 17.32it/s]\n"
          ]
        },
        {
          "output_type": "stream",
          "name": "stdout",
          "text": [
            "Test set: Average loss: 0.0056, Accuracy: 7531/10000 (75.31%)\n",
            "\n"
          ]
        },
        {
          "output_type": "stream",
          "name": "stderr",
          "text": [
            "EPOCH = 47 | LR = 0.001 | Loss = 0.73 | Batch = 390 | Accuracy = 68.27: 100%|██████████| 391/391 [00:22<00:00, 17.28it/s]\n"
          ]
        },
        {
          "output_type": "stream",
          "name": "stdout",
          "text": [
            "Test set: Average loss: 0.0057, Accuracy: 7488/10000 (74.88%)\n",
            "\n"
          ]
        },
        {
          "output_type": "stream",
          "name": "stderr",
          "text": [
            "EPOCH = 48 | LR = 0.001 | Loss = 1.00 | Batch = 390 | Accuracy = 68.40: 100%|██████████| 391/391 [00:22<00:00, 17.07it/s]\n"
          ]
        },
        {
          "output_type": "stream",
          "name": "stdout",
          "text": [
            "Test set: Average loss: 0.0056, Accuracy: 7487/10000 (74.87%)\n",
            "\n"
          ]
        },
        {
          "output_type": "stream",
          "name": "stderr",
          "text": [
            "EPOCH = 49 | LR = 0.001 | Loss = 0.92 | Batch = 390 | Accuracy = 68.84: 100%|██████████| 391/391 [00:22<00:00, 17.29it/s]\n"
          ]
        },
        {
          "output_type": "stream",
          "name": "stdout",
          "text": [
            "Test set: Average loss: 0.0056, Accuracy: 7501/10000 (75.01%)\n",
            "\n"
          ]
        },
        {
          "output_type": "stream",
          "name": "stderr",
          "text": [
            "EPOCH = 50 | LR = 0.001 | Loss = 0.84 | Batch = 390 | Accuracy = 68.66: 100%|██████████| 391/391 [00:22<00:00, 17.18it/s]\n"
          ]
        },
        {
          "output_type": "stream",
          "name": "stdout",
          "text": [
            "Test set: Average loss: 0.0054, Accuracy: 7591/10000 (75.91%)\n",
            "\n"
          ]
        },
        {
          "output_type": "stream",
          "name": "stderr",
          "text": [
            "EPOCH = 51 | LR = 0.001 | Loss = 0.94 | Batch = 390 | Accuracy = 69.12: 100%|██████████| 391/391 [00:22<00:00, 17.29it/s]\n"
          ]
        },
        {
          "output_type": "stream",
          "name": "stdout",
          "text": [
            "Test set: Average loss: 0.0054, Accuracy: 7591/10000 (75.91%)\n",
            "\n"
          ]
        },
        {
          "output_type": "stream",
          "name": "stderr",
          "text": [
            "EPOCH = 52 | LR = 0.001 | Loss = 0.78 | Batch = 390 | Accuracy = 69.20: 100%|██████████| 391/391 [00:22<00:00, 17.28it/s]\n"
          ]
        },
        {
          "output_type": "stream",
          "name": "stdout",
          "text": [
            "Test set: Average loss: 0.0054, Accuracy: 7623/10000 (76.23%)\n",
            "\n"
          ]
        },
        {
          "output_type": "stream",
          "name": "stderr",
          "text": [
            "EPOCH = 53 | LR = 0.001 | Loss = 0.95 | Batch = 390 | Accuracy = 69.26: 100%|██████████| 391/391 [00:22<00:00, 17.25it/s]\n"
          ]
        },
        {
          "output_type": "stream",
          "name": "stdout",
          "text": [
            "Test set: Average loss: 0.0055, Accuracy: 7570/10000 (75.70%)\n",
            "\n"
          ]
        },
        {
          "output_type": "stream",
          "name": "stderr",
          "text": [
            "EPOCH = 54 | LR = 0.001 | Loss = 0.64 | Batch = 390 | Accuracy = 69.54: 100%|██████████| 391/391 [00:22<00:00, 17.26it/s]\n"
          ]
        },
        {
          "output_type": "stream",
          "name": "stdout",
          "text": [
            "Test set: Average loss: 0.0053, Accuracy: 7640/10000 (76.40%)\n",
            "\n"
          ]
        },
        {
          "output_type": "stream",
          "name": "stderr",
          "text": [
            "EPOCH = 55 | LR = 0.001 | Loss = 0.85 | Batch = 390 | Accuracy = 69.87: 100%|██████████| 391/391 [00:22<00:00, 17.26it/s]\n"
          ]
        },
        {
          "output_type": "stream",
          "name": "stdout",
          "text": [
            "Test set: Average loss: 0.0053, Accuracy: 7645/10000 (76.45%)\n",
            "\n"
          ]
        },
        {
          "output_type": "stream",
          "name": "stderr",
          "text": [
            "EPOCH = 56 | LR = 0.001 | Loss = 0.81 | Batch = 390 | Accuracy = 69.87: 100%|██████████| 391/391 [00:22<00:00, 17.25it/s]\n"
          ]
        },
        {
          "output_type": "stream",
          "name": "stdout",
          "text": [
            "Test set: Average loss: 0.0053, Accuracy: 7666/10000 (76.66%)\n",
            "\n"
          ]
        },
        {
          "output_type": "stream",
          "name": "stderr",
          "text": [
            "EPOCH = 57 | LR = 0.001 | Loss = 0.63 | Batch = 390 | Accuracy = 69.76: 100%|██████████| 391/391 [00:22<00:00, 17.23it/s]\n"
          ]
        },
        {
          "output_type": "stream",
          "name": "stdout",
          "text": [
            "Test set: Average loss: 0.0053, Accuracy: 7648/10000 (76.48%)\n",
            "\n"
          ]
        },
        {
          "output_type": "stream",
          "name": "stderr",
          "text": [
            "EPOCH = 58 | LR = 0.001 | Loss = 0.69 | Batch = 390 | Accuracy = 70.17: 100%|██████████| 391/391 [00:22<00:00, 17.32it/s]\n"
          ]
        },
        {
          "output_type": "stream",
          "name": "stdout",
          "text": [
            "Test set: Average loss: 0.0053, Accuracy: 7731/10000 (77.31%)\n",
            "\n"
          ]
        },
        {
          "output_type": "stream",
          "name": "stderr",
          "text": [
            "EPOCH = 59 | LR = 0.001 | Loss = 0.92 | Batch = 390 | Accuracy = 70.28: 100%|██████████| 391/391 [00:22<00:00, 17.33it/s]\n"
          ]
        },
        {
          "output_type": "stream",
          "name": "stdout",
          "text": [
            "Test set: Average loss: 0.0053, Accuracy: 7689/10000 (76.89%)\n",
            "\n"
          ]
        },
        {
          "output_type": "stream",
          "name": "stderr",
          "text": [
            "EPOCH = 60 | LR = 0.001 | Loss = 0.88 | Batch = 390 | Accuracy = 70.67: 100%|██████████| 391/391 [00:22<00:00, 17.33it/s]\n"
          ]
        },
        {
          "output_type": "stream",
          "name": "stdout",
          "text": [
            "Test set: Average loss: 0.0052, Accuracy: 7740/10000 (77.40%)\n",
            "\n"
          ]
        },
        {
          "output_type": "stream",
          "name": "stderr",
          "text": [
            "EPOCH = 61 | LR = 0.001 | Loss = 0.83 | Batch = 390 | Accuracy = 70.66: 100%|██████████| 391/391 [00:22<00:00, 17.31it/s]\n"
          ]
        },
        {
          "output_type": "stream",
          "name": "stdout",
          "text": [
            "Test set: Average loss: 0.0051, Accuracy: 7747/10000 (77.47%)\n",
            "\n"
          ]
        },
        {
          "output_type": "stream",
          "name": "stderr",
          "text": [
            "EPOCH = 62 | LR = 0.001 | Loss = 0.89 | Batch = 390 | Accuracy = 71.07: 100%|██████████| 391/391 [00:22<00:00, 17.13it/s]\n"
          ]
        },
        {
          "output_type": "stream",
          "name": "stdout",
          "text": [
            "Test set: Average loss: 0.0053, Accuracy: 7730/10000 (77.30%)\n",
            "\n"
          ]
        },
        {
          "output_type": "stream",
          "name": "stderr",
          "text": [
            "EPOCH = 63 | LR = 0.001 | Loss = 0.79 | Batch = 390 | Accuracy = 71.05: 100%|██████████| 391/391 [00:22<00:00, 17.20it/s]\n"
          ]
        },
        {
          "output_type": "stream",
          "name": "stdout",
          "text": [
            "Test set: Average loss: 0.0051, Accuracy: 7762/10000 (77.62%)\n",
            "\n"
          ]
        },
        {
          "output_type": "stream",
          "name": "stderr",
          "text": [
            "EPOCH = 64 | LR = 0.001 | Loss = 0.88 | Batch = 390 | Accuracy = 71.18: 100%|██████████| 391/391 [00:22<00:00, 17.21it/s]\n"
          ]
        },
        {
          "output_type": "stream",
          "name": "stdout",
          "text": [
            "Test set: Average loss: 0.0051, Accuracy: 7800/10000 (78.00%)\n",
            "\n"
          ]
        },
        {
          "output_type": "stream",
          "name": "stderr",
          "text": [
            "EPOCH = 65 | LR = 0.001 | Loss = 0.77 | Batch = 390 | Accuracy = 71.45: 100%|██████████| 391/391 [00:22<00:00, 17.18it/s]\n"
          ]
        },
        {
          "output_type": "stream",
          "name": "stdout",
          "text": [
            "Test set: Average loss: 0.0052, Accuracy: 7724/10000 (77.24%)\n",
            "\n"
          ]
        },
        {
          "output_type": "stream",
          "name": "stderr",
          "text": [
            "EPOCH = 66 | LR = 0.001 | Loss = 0.61 | Batch = 390 | Accuracy = 71.55: 100%|██████████| 391/391 [00:22<00:00, 17.18it/s]\n"
          ]
        },
        {
          "output_type": "stream",
          "name": "stdout",
          "text": [
            "Test set: Average loss: 0.0050, Accuracy: 7811/10000 (78.11%)\n",
            "\n"
          ]
        },
        {
          "output_type": "stream",
          "name": "stderr",
          "text": [
            "EPOCH = 67 | LR = 0.001 | Loss = 0.78 | Batch = 390 | Accuracy = 71.59: 100%|██████████| 391/391 [00:22<00:00, 17.23it/s]\n"
          ]
        },
        {
          "output_type": "stream",
          "name": "stdout",
          "text": [
            "Test set: Average loss: 0.0052, Accuracy: 7737/10000 (77.37%)\n",
            "\n"
          ]
        },
        {
          "output_type": "stream",
          "name": "stderr",
          "text": [
            "EPOCH = 68 | LR = 0.001 | Loss = 0.85 | Batch = 390 | Accuracy = 71.56: 100%|██████████| 391/391 [00:22<00:00, 17.28it/s]\n"
          ]
        },
        {
          "output_type": "stream",
          "name": "stdout",
          "text": [
            "Test set: Average loss: 0.0051, Accuracy: 7790/10000 (77.90%)\n",
            "\n"
          ]
        },
        {
          "output_type": "stream",
          "name": "stderr",
          "text": [
            "EPOCH = 69 | LR = 0.001 | Loss = 1.00 | Batch = 390 | Accuracy = 71.93: 100%|██████████| 391/391 [00:22<00:00, 17.26it/s]\n"
          ]
        },
        {
          "output_type": "stream",
          "name": "stdout",
          "text": [
            "Test set: Average loss: 0.0049, Accuracy: 7807/10000 (78.07%)\n",
            "\n"
          ]
        },
        {
          "output_type": "stream",
          "name": "stderr",
          "text": [
            "EPOCH = 70 | LR = 0.001 | Loss = 0.73 | Batch = 390 | Accuracy = 71.94: 100%|██████████| 391/391 [00:22<00:00, 17.11it/s]\n"
          ]
        },
        {
          "output_type": "stream",
          "name": "stdout",
          "text": [
            "Test set: Average loss: 0.0050, Accuracy: 7848/10000 (78.48%)\n",
            "\n"
          ]
        },
        {
          "output_type": "stream",
          "name": "stderr",
          "text": [
            "EPOCH = 71 | LR = 0.001 | Loss = 0.84 | Batch = 390 | Accuracy = 72.36: 100%|██████████| 391/391 [00:22<00:00, 17.06it/s]\n"
          ]
        },
        {
          "output_type": "stream",
          "name": "stdout",
          "text": [
            "Test set: Average loss: 0.0049, Accuracy: 7872/10000 (78.72%)\n",
            "\n"
          ]
        },
        {
          "output_type": "stream",
          "name": "stderr",
          "text": [
            "EPOCH = 72 | LR = 0.001 | Loss = 1.09 | Batch = 390 | Accuracy = 72.20: 100%|██████████| 391/391 [00:22<00:00, 17.03it/s]\n"
          ]
        },
        {
          "output_type": "stream",
          "name": "stdout",
          "text": [
            "Test set: Average loss: 0.0049, Accuracy: 7891/10000 (78.91%)\n",
            "\n"
          ]
        },
        {
          "output_type": "stream",
          "name": "stderr",
          "text": [
            "EPOCH = 73 | LR = 0.001 | Loss = 0.72 | Batch = 390 | Accuracy = 72.25: 100%|██████████| 391/391 [00:23<00:00, 16.95it/s]\n"
          ]
        },
        {
          "output_type": "stream",
          "name": "stdout",
          "text": [
            "Test set: Average loss: 0.0049, Accuracy: 7846/10000 (78.46%)\n",
            "\n"
          ]
        },
        {
          "output_type": "stream",
          "name": "stderr",
          "text": [
            "EPOCH = 74 | LR = 0.001 | Loss = 0.62 | Batch = 390 | Accuracy = 72.34: 100%|██████████| 391/391 [00:23<00:00, 16.88it/s]\n"
          ]
        },
        {
          "output_type": "stream",
          "name": "stdout",
          "text": [
            "Test set: Average loss: 0.0049, Accuracy: 7853/10000 (78.53%)\n",
            "\n"
          ]
        },
        {
          "output_type": "stream",
          "name": "stderr",
          "text": [
            "EPOCH = 75 | LR = 0.001 | Loss = 0.89 | Batch = 390 | Accuracy = 72.31: 100%|██████████| 391/391 [00:23<00:00, 16.88it/s]\n"
          ]
        },
        {
          "output_type": "stream",
          "name": "stdout",
          "text": [
            "Test set: Average loss: 0.0048, Accuracy: 7895/10000 (78.95%)\n",
            "\n"
          ]
        },
        {
          "output_type": "stream",
          "name": "stderr",
          "text": [
            "EPOCH = 76 | LR = 0.001 | Loss = 1.09 | Batch = 390 | Accuracy = 72.75: 100%|██████████| 391/391 [00:23<00:00, 16.74it/s]\n"
          ]
        },
        {
          "output_type": "stream",
          "name": "stdout",
          "text": [
            "Test set: Average loss: 0.0048, Accuracy: 7896/10000 (78.96%)\n",
            "\n"
          ]
        },
        {
          "output_type": "stream",
          "name": "stderr",
          "text": [
            "EPOCH = 77 | LR = 0.001 | Loss = 0.87 | Batch = 390 | Accuracy = 72.74: 100%|██████████| 391/391 [00:23<00:00, 16.96it/s]\n"
          ]
        },
        {
          "output_type": "stream",
          "name": "stdout",
          "text": [
            "Test set: Average loss: 0.0047, Accuracy: 7929/10000 (79.29%)\n",
            "\n"
          ]
        },
        {
          "output_type": "stream",
          "name": "stderr",
          "text": [
            "EPOCH = 78 | LR = 0.001 | Loss = 0.78 | Batch = 390 | Accuracy = 73.04: 100%|██████████| 391/391 [00:23<00:00, 16.86it/s]\n"
          ]
        },
        {
          "output_type": "stream",
          "name": "stdout",
          "text": [
            "Test set: Average loss: 0.0047, Accuracy: 7924/10000 (79.24%)\n",
            "\n"
          ]
        },
        {
          "output_type": "stream",
          "name": "stderr",
          "text": [
            "EPOCH = 79 | LR = 0.001 | Loss = 0.74 | Batch = 390 | Accuracy = 73.15: 100%|██████████| 391/391 [00:23<00:00, 16.95it/s]\n"
          ]
        },
        {
          "output_type": "stream",
          "name": "stdout",
          "text": [
            "Test set: Average loss: 0.0048, Accuracy: 7897/10000 (78.97%)\n",
            "\n"
          ]
        },
        {
          "output_type": "stream",
          "name": "stderr",
          "text": [
            "EPOCH = 80 | LR = 0.001 | Loss = 0.86 | Batch = 390 | Accuracy = 73.26: 100%|██████████| 391/391 [00:22<00:00, 17.01it/s]\n"
          ]
        },
        {
          "output_type": "stream",
          "name": "stdout",
          "text": [
            "Test set: Average loss: 0.0050, Accuracy: 7826/10000 (78.26%)\n",
            "\n"
          ]
        },
        {
          "output_type": "stream",
          "name": "stderr",
          "text": [
            "EPOCH = 81 | LR = 0.001 | Loss = 0.65 | Batch = 390 | Accuracy = 73.30: 100%|██████████| 391/391 [00:22<00:00, 17.07it/s]\n"
          ]
        },
        {
          "output_type": "stream",
          "name": "stdout",
          "text": [
            "Test set: Average loss: 0.0048, Accuracy: 7931/10000 (79.31%)\n",
            "\n"
          ]
        },
        {
          "output_type": "stream",
          "name": "stderr",
          "text": [
            "EPOCH = 82 | LR = 0.001 | Loss = 0.66 | Batch = 390 | Accuracy = 73.27: 100%|██████████| 391/391 [00:23<00:00, 16.88it/s]\n"
          ]
        },
        {
          "output_type": "stream",
          "name": "stdout",
          "text": [
            "Test set: Average loss: 0.0048, Accuracy: 7957/10000 (79.57%)\n",
            "\n"
          ]
        },
        {
          "output_type": "stream",
          "name": "stderr",
          "text": [
            "EPOCH = 83 | LR = 0.001 | Loss = 0.93 | Batch = 390 | Accuracy = 73.59: 100%|██████████| 391/391 [00:23<00:00, 16.61it/s]\n"
          ]
        },
        {
          "output_type": "stream",
          "name": "stdout",
          "text": [
            "Test set: Average loss: 0.0047, Accuracy: 7923/10000 (79.23%)\n",
            "\n"
          ]
        },
        {
          "output_type": "stream",
          "name": "stderr",
          "text": [
            "EPOCH = 84 | LR = 0.001 | Loss = 0.84 | Batch = 390 | Accuracy = 73.78: 100%|██████████| 391/391 [00:23<00:00, 16.75it/s]\n"
          ]
        },
        {
          "output_type": "stream",
          "name": "stdout",
          "text": [
            "Test set: Average loss: 0.0048, Accuracy: 7902/10000 (79.02%)\n",
            "\n"
          ]
        },
        {
          "output_type": "stream",
          "name": "stderr",
          "text": [
            "EPOCH = 85 | LR = 0.001 | Loss = 0.83 | Batch = 390 | Accuracy = 73.70: 100%|██████████| 391/391 [00:23<00:00, 16.81it/s]\n"
          ]
        },
        {
          "output_type": "stream",
          "name": "stdout",
          "text": [
            "Test set: Average loss: 0.0048, Accuracy: 7936/10000 (79.36%)\n",
            "\n"
          ]
        },
        {
          "output_type": "stream",
          "name": "stderr",
          "text": [
            "EPOCH = 86 | LR = 0.001 | Loss = 0.63 | Batch = 390 | Accuracy = 73.87: 100%|██████████| 391/391 [00:23<00:00, 16.88it/s]\n"
          ]
        },
        {
          "output_type": "stream",
          "name": "stdout",
          "text": [
            "Test set: Average loss: 0.0046, Accuracy: 8015/10000 (80.15%)\n",
            "\n"
          ]
        },
        {
          "output_type": "stream",
          "name": "stderr",
          "text": [
            "EPOCH = 87 | LR = 0.001 | Loss = 0.78 | Batch = 390 | Accuracy = 73.98: 100%|██████████| 391/391 [00:23<00:00, 16.91it/s]\n"
          ]
        },
        {
          "output_type": "stream",
          "name": "stdout",
          "text": [
            "Test set: Average loss: 0.0046, Accuracy: 7994/10000 (79.94%)\n",
            "\n"
          ]
        },
        {
          "output_type": "stream",
          "name": "stderr",
          "text": [
            "EPOCH = 88 | LR = 0.001 | Loss = 0.93 | Batch = 390 | Accuracy = 73.77: 100%|██████████| 391/391 [00:23<00:00, 16.87it/s]\n"
          ]
        },
        {
          "output_type": "stream",
          "name": "stdout",
          "text": [
            "Test set: Average loss: 0.0046, Accuracy: 7984/10000 (79.84%)\n",
            "\n"
          ]
        },
        {
          "output_type": "stream",
          "name": "stderr",
          "text": [
            "EPOCH = 89 | LR = 0.001 | Loss = 0.58 | Batch = 390 | Accuracy = 74.02: 100%|██████████| 391/391 [00:23<00:00, 16.87it/s]\n"
          ]
        },
        {
          "output_type": "stream",
          "name": "stdout",
          "text": [
            "Test set: Average loss: 0.0048, Accuracy: 7929/10000 (79.29%)\n",
            "\n"
          ]
        },
        {
          "output_type": "stream",
          "name": "stderr",
          "text": [
            "EPOCH = 90 | LR = 0.001 | Loss = 1.09 | Batch = 390 | Accuracy = 74.24: 100%|██████████| 391/391 [00:23<00:00, 16.96it/s]\n"
          ]
        },
        {
          "output_type": "stream",
          "name": "stdout",
          "text": [
            "Test set: Average loss: 0.0047, Accuracy: 7978/10000 (79.78%)\n",
            "\n"
          ]
        },
        {
          "output_type": "stream",
          "name": "stderr",
          "text": [
            "EPOCH = 91 | LR = 0.001 | Loss = 0.72 | Batch = 390 | Accuracy = 74.22: 100%|██████████| 391/391 [00:22<00:00, 17.05it/s]\n"
          ]
        },
        {
          "output_type": "stream",
          "name": "stdout",
          "text": [
            "Test set: Average loss: 0.0045, Accuracy: 8054/10000 (80.54%)\n",
            "\n"
          ]
        },
        {
          "output_type": "stream",
          "name": "stderr",
          "text": [
            "EPOCH = 92 | LR = 0.001 | Loss = 0.74 | Batch = 390 | Accuracy = 74.34: 100%|██████████| 391/391 [00:22<00:00, 17.09it/s]\n"
          ]
        },
        {
          "output_type": "stream",
          "name": "stdout",
          "text": [
            "Test set: Average loss: 0.0046, Accuracy: 7978/10000 (79.78%)\n",
            "\n"
          ]
        },
        {
          "output_type": "stream",
          "name": "stderr",
          "text": [
            "EPOCH = 93 | LR = 0.001 | Loss = 0.83 | Batch = 390 | Accuracy = 74.46: 100%|██████████| 391/391 [00:22<00:00, 17.01it/s]\n"
          ]
        },
        {
          "output_type": "stream",
          "name": "stdout",
          "text": [
            "Test set: Average loss: 0.0046, Accuracy: 8046/10000 (80.46%)\n",
            "\n"
          ]
        },
        {
          "output_type": "stream",
          "name": "stderr",
          "text": [
            "EPOCH = 94 | LR = 0.001 | Loss = 0.94 | Batch = 390 | Accuracy = 74.56: 100%|██████████| 391/391 [00:23<00:00, 16.98it/s]\n"
          ]
        },
        {
          "output_type": "stream",
          "name": "stdout",
          "text": [
            "Test set: Average loss: 0.0045, Accuracy: 8012/10000 (80.12%)\n",
            "\n"
          ]
        },
        {
          "output_type": "stream",
          "name": "stderr",
          "text": [
            "EPOCH = 95 | LR = 0.001 | Loss = 0.50 | Batch = 390 | Accuracy = 74.41: 100%|██████████| 391/391 [00:23<00:00, 16.93it/s]\n"
          ]
        },
        {
          "output_type": "stream",
          "name": "stdout",
          "text": [
            "Test set: Average loss: 0.0045, Accuracy: 8057/10000 (80.57%)\n",
            "\n"
          ]
        },
        {
          "output_type": "stream",
          "name": "stderr",
          "text": [
            "EPOCH = 96 | LR = 0.001 | Loss = 0.75 | Batch = 390 | Accuracy = 74.72: 100%|██████████| 391/391 [00:23<00:00, 17.00it/s]\n"
          ]
        },
        {
          "output_type": "stream",
          "name": "stdout",
          "text": [
            "Test set: Average loss: 0.0045, Accuracy: 8041/10000 (80.41%)\n",
            "\n"
          ]
        },
        {
          "output_type": "stream",
          "name": "stderr",
          "text": [
            "EPOCH = 97 | LR = 0.001 | Loss = 0.69 | Batch = 390 | Accuracy = 74.61: 100%|██████████| 391/391 [00:23<00:00, 16.91it/s]\n"
          ]
        },
        {
          "output_type": "stream",
          "name": "stdout",
          "text": [
            "Test set: Average loss: 0.0045, Accuracy: 8032/10000 (80.32%)\n",
            "\n"
          ]
        },
        {
          "output_type": "stream",
          "name": "stderr",
          "text": [
            "EPOCH = 98 | LR = 0.001 | Loss = 0.74 | Batch = 390 | Accuracy = 74.95: 100%|██████████| 391/391 [00:23<00:00, 16.97it/s]\n"
          ]
        },
        {
          "output_type": "stream",
          "name": "stdout",
          "text": [
            "Test set: Average loss: 0.0044, Accuracy: 8095/10000 (80.95%)\n",
            "\n"
          ]
        },
        {
          "output_type": "stream",
          "name": "stderr",
          "text": [
            "EPOCH = 99 | LR = 0.001 | Loss = 0.76 | Batch = 390 | Accuracy = 75.03: 100%|██████████| 391/391 [00:23<00:00, 16.82it/s]\n"
          ]
        },
        {
          "output_type": "stream",
          "name": "stdout",
          "text": [
            "Test set: Average loss: 0.0045, Accuracy: 8070/10000 (80.70%)\n",
            "\n"
          ]
        },
        {
          "output_type": "stream",
          "name": "stderr",
          "text": [
            "EPOCH = 100 | LR = 0.001 | Loss = 0.86 | Batch = 390 | Accuracy = 74.96: 100%|██████████| 391/391 [00:23<00:00, 16.93it/s]\n"
          ]
        },
        {
          "output_type": "stream",
          "name": "stdout",
          "text": [
            "Test set: Average loss: 0.0044, Accuracy: 8102/10000 (81.02%)\n",
            "\n"
          ]
        },
        {
          "output_type": "stream",
          "name": "stderr",
          "text": [
            "EPOCH = 101 | LR = 0.001 | Loss = 0.60 | Batch = 390 | Accuracy = 75.09: 100%|██████████| 391/391 [00:23<00:00, 16.91it/s]\n"
          ]
        },
        {
          "output_type": "stream",
          "name": "stdout",
          "text": [
            "Test set: Average loss: 0.0044, Accuracy: 8124/10000 (81.24%)\n",
            "\n"
          ]
        },
        {
          "output_type": "stream",
          "name": "stderr",
          "text": [
            "EPOCH = 102 | LR = 0.001 | Loss = 0.70 | Batch = 390 | Accuracy = 75.32: 100%|██████████| 391/391 [00:23<00:00, 16.97it/s]\n"
          ]
        },
        {
          "output_type": "stream",
          "name": "stdout",
          "text": [
            "Test set: Average loss: 0.0045, Accuracy: 8039/10000 (80.39%)\n",
            "\n"
          ]
        },
        {
          "output_type": "stream",
          "name": "stderr",
          "text": [
            "EPOCH = 103 | LR = 0.001 | Loss = 0.98 | Batch = 390 | Accuracy = 75.13: 100%|██████████| 391/391 [00:22<00:00, 17.19it/s]\n"
          ]
        },
        {
          "output_type": "stream",
          "name": "stdout",
          "text": [
            "Test set: Average loss: 0.0045, Accuracy: 8100/10000 (81.00%)\n",
            "\n"
          ]
        },
        {
          "output_type": "stream",
          "name": "stderr",
          "text": [
            "EPOCH = 104 | LR = 0.001 | Loss = 0.57 | Batch = 390 | Accuracy = 75.40: 100%|██████████| 391/391 [00:22<00:00, 17.11it/s]\n"
          ]
        },
        {
          "output_type": "stream",
          "name": "stdout",
          "text": [
            "Test set: Average loss: 0.0045, Accuracy: 8071/10000 (80.71%)\n",
            "\n"
          ]
        },
        {
          "output_type": "stream",
          "name": "stderr",
          "text": [
            "EPOCH = 105 | LR = 0.001 | Loss = 0.64 | Batch = 390 | Accuracy = 75.45: 100%|██████████| 391/391 [00:22<00:00, 17.02it/s]\n"
          ]
        },
        {
          "output_type": "stream",
          "name": "stdout",
          "text": [
            "Test set: Average loss: 0.0044, Accuracy: 8103/10000 (81.03%)\n",
            "\n"
          ]
        },
        {
          "output_type": "stream",
          "name": "stderr",
          "text": [
            "EPOCH = 106 | LR = 0.001 | Loss = 0.67 | Batch = 390 | Accuracy = 75.56: 100%|██████████| 391/391 [00:22<00:00, 17.14it/s]\n"
          ]
        },
        {
          "output_type": "stream",
          "name": "stdout",
          "text": [
            "Test set: Average loss: 0.0045, Accuracy: 8075/10000 (80.75%)\n",
            "\n"
          ]
        },
        {
          "output_type": "stream",
          "name": "stderr",
          "text": [
            "EPOCH = 107 | LR = 0.001 | Loss = 0.59 | Batch = 390 | Accuracy = 75.63: 100%|██████████| 391/391 [00:22<00:00, 17.17it/s]\n"
          ]
        },
        {
          "output_type": "stream",
          "name": "stdout",
          "text": [
            "Test set: Average loss: 0.0044, Accuracy: 8073/10000 (80.73%)\n",
            "\n"
          ]
        },
        {
          "output_type": "stream",
          "name": "stderr",
          "text": [
            "EPOCH = 108 | LR = 0.001 | Loss = 0.65 | Batch = 390 | Accuracy = 75.74: 100%|██████████| 391/391 [00:22<00:00, 17.02it/s]\n"
          ]
        },
        {
          "output_type": "stream",
          "name": "stdout",
          "text": [
            "Test set: Average loss: 0.0044, Accuracy: 8061/10000 (80.61%)\n",
            "\n"
          ]
        },
        {
          "output_type": "stream",
          "name": "stderr",
          "text": [
            "EPOCH = 109 | LR = 0.001 | Loss = 0.56 | Batch = 390 | Accuracy = 75.53: 100%|██████████| 391/391 [00:23<00:00, 16.89it/s]\n"
          ]
        },
        {
          "output_type": "stream",
          "name": "stdout",
          "text": [
            "Test set: Average loss: 0.0044, Accuracy: 8119/10000 (81.19%)\n",
            "\n"
          ]
        },
        {
          "output_type": "stream",
          "name": "stderr",
          "text": [
            "EPOCH = 110 | LR = 0.001 | Loss = 0.70 | Batch = 390 | Accuracy = 76.04: 100%|██████████| 391/391 [00:23<00:00, 16.99it/s]\n"
          ]
        },
        {
          "output_type": "stream",
          "name": "stdout",
          "text": [
            "Test set: Average loss: 0.0046, Accuracy: 8048/10000 (80.48%)\n",
            "\n"
          ]
        },
        {
          "output_type": "stream",
          "name": "stderr",
          "text": [
            "EPOCH = 111 | LR = 0.001 | Loss = 0.78 | Batch = 390 | Accuracy = 75.83: 100%|██████████| 391/391 [00:22<00:00, 17.07it/s]\n"
          ]
        },
        {
          "output_type": "stream",
          "name": "stdout",
          "text": [
            "Test set: Average loss: 0.0044, Accuracy: 8101/10000 (81.01%)\n",
            "\n"
          ]
        },
        {
          "output_type": "stream",
          "name": "stderr",
          "text": [
            "EPOCH = 112 | LR = 0.001 | Loss = 0.65 | Batch = 390 | Accuracy = 76.06: 100%|██████████| 391/391 [00:23<00:00, 16.97it/s]\n"
          ]
        },
        {
          "output_type": "stream",
          "name": "stdout",
          "text": [
            "Test set: Average loss: 0.0044, Accuracy: 8092/10000 (80.92%)\n",
            "\n"
          ]
        },
        {
          "output_type": "stream",
          "name": "stderr",
          "text": [
            "EPOCH = 113 | LR = 0.001 | Loss = 0.91 | Batch = 390 | Accuracy = 75.92: 100%|██████████| 391/391 [00:23<00:00, 16.97it/s]\n"
          ]
        },
        {
          "output_type": "stream",
          "name": "stdout",
          "text": [
            "Test set: Average loss: 0.0043, Accuracy: 8129/10000 (81.29%)\n",
            "\n"
          ]
        },
        {
          "output_type": "stream",
          "name": "stderr",
          "text": [
            "EPOCH = 114 | LR = 0.001 | Loss = 0.73 | Batch = 390 | Accuracy = 75.97: 100%|██████████| 391/391 [00:23<00:00, 16.93it/s]\n"
          ]
        },
        {
          "output_type": "stream",
          "name": "stdout",
          "text": [
            "Test set: Average loss: 0.0042, Accuracy: 8183/10000 (81.83%)\n",
            "\n"
          ]
        },
        {
          "output_type": "stream",
          "name": "stderr",
          "text": [
            "EPOCH = 115 | LR = 0.001 | Loss = 0.67 | Batch = 390 | Accuracy = 76.17: 100%|██████████| 391/391 [00:23<00:00, 16.55it/s]\n"
          ]
        },
        {
          "output_type": "stream",
          "name": "stdout",
          "text": [
            "Test set: Average loss: 0.0044, Accuracy: 8104/10000 (81.04%)\n",
            "\n"
          ]
        },
        {
          "output_type": "stream",
          "name": "stderr",
          "text": [
            "EPOCH = 116 | LR = 0.001 | Loss = 0.63 | Batch = 390 | Accuracy = 76.13: 100%|██████████| 391/391 [00:23<00:00, 16.57it/s]\n"
          ]
        },
        {
          "output_type": "stream",
          "name": "stdout",
          "text": [
            "Test set: Average loss: 0.0044, Accuracy: 8118/10000 (81.18%)\n",
            "\n"
          ]
        },
        {
          "output_type": "stream",
          "name": "stderr",
          "text": [
            "EPOCH = 117 | LR = 0.001 | Loss = 0.72 | Batch = 390 | Accuracy = 76.23: 100%|██████████| 391/391 [00:23<00:00, 16.84it/s]\n"
          ]
        },
        {
          "output_type": "stream",
          "name": "stdout",
          "text": [
            "Test set: Average loss: 0.0044, Accuracy: 8112/10000 (81.12%)\n",
            "\n"
          ]
        },
        {
          "output_type": "stream",
          "name": "stderr",
          "text": [
            "EPOCH = 118 | LR = 0.001 | Loss = 0.75 | Batch = 390 | Accuracy = 76.50: 100%|██████████| 391/391 [00:23<00:00, 16.75it/s]\n"
          ]
        },
        {
          "output_type": "stream",
          "name": "stdout",
          "text": [
            "Test set: Average loss: 0.0042, Accuracy: 8169/10000 (81.69%)\n",
            "\n"
          ]
        },
        {
          "output_type": "stream",
          "name": "stderr",
          "text": [
            "EPOCH = 119 | LR = 0.001 | Loss = 0.62 | Batch = 390 | Accuracy = 76.29: 100%|██████████| 391/391 [00:23<00:00, 16.43it/s]\n"
          ]
        },
        {
          "output_type": "stream",
          "name": "stdout",
          "text": [
            "Test set: Average loss: 0.0043, Accuracy: 8163/10000 (81.63%)\n",
            "\n"
          ]
        },
        {
          "output_type": "stream",
          "name": "stderr",
          "text": [
            "EPOCH = 120 | LR = 0.001 | Loss = 0.88 | Batch = 390 | Accuracy = 76.43: 100%|██████████| 391/391 [00:23<00:00, 16.62it/s]\n"
          ]
        },
        {
          "output_type": "stream",
          "name": "stdout",
          "text": [
            "Test set: Average loss: 0.0042, Accuracy: 8152/10000 (81.52%)\n",
            "\n"
          ]
        },
        {
          "output_type": "stream",
          "name": "stderr",
          "text": [
            "EPOCH = 121 | LR = 0.001 | Loss = 0.91 | Batch = 390 | Accuracy = 76.75: 100%|██████████| 391/391 [00:23<00:00, 16.80it/s]\n"
          ]
        },
        {
          "output_type": "stream",
          "name": "stdout",
          "text": [
            "Test set: Average loss: 0.0043, Accuracy: 8138/10000 (81.38%)\n",
            "\n"
          ]
        },
        {
          "output_type": "stream",
          "name": "stderr",
          "text": [
            "EPOCH = 122 | LR = 0.001 | Loss = 0.79 | Batch = 390 | Accuracy = 76.51: 100%|██████████| 391/391 [00:23<00:00, 16.84it/s]\n"
          ]
        },
        {
          "output_type": "stream",
          "name": "stdout",
          "text": [
            "Test set: Average loss: 0.0041, Accuracy: 8239/10000 (82.39%)\n",
            "\n"
          ]
        },
        {
          "output_type": "stream",
          "name": "stderr",
          "text": [
            "EPOCH = 123 | LR = 0.001 | Loss = 0.62 | Batch = 390 | Accuracy = 76.76: 100%|██████████| 391/391 [00:23<00:00, 16.62it/s]\n"
          ]
        },
        {
          "output_type": "stream",
          "name": "stdout",
          "text": [
            "Test set: Average loss: 0.0042, Accuracy: 8195/10000 (81.95%)\n",
            "\n"
          ]
        },
        {
          "output_type": "stream",
          "name": "stderr",
          "text": [
            "EPOCH = 124 | LR = 0.001 | Loss = 0.65 | Batch = 390 | Accuracy = 76.78: 100%|██████████| 391/391 [00:23<00:00, 16.85it/s]\n"
          ]
        },
        {
          "output_type": "stream",
          "name": "stdout",
          "text": [
            "Test set: Average loss: 0.0043, Accuracy: 8141/10000 (81.41%)\n",
            "\n"
          ]
        },
        {
          "output_type": "stream",
          "name": "stderr",
          "text": [
            "EPOCH = 125 | LR = 0.001 | Loss = 0.71 | Batch = 390 | Accuracy = 76.50: 100%|██████████| 391/391 [00:23<00:00, 16.89it/s]\n"
          ]
        },
        {
          "output_type": "stream",
          "name": "stdout",
          "text": [
            "Test set: Average loss: 0.0042, Accuracy: 8188/10000 (81.88%)\n",
            "\n"
          ]
        },
        {
          "output_type": "stream",
          "name": "stderr",
          "text": [
            "EPOCH = 126 | LR = 0.001 | Loss = 0.84 | Batch = 390 | Accuracy = 76.93: 100%|██████████| 391/391 [00:23<00:00, 16.85it/s]\n"
          ]
        },
        {
          "output_type": "stream",
          "name": "stdout",
          "text": [
            "Test set: Average loss: 0.0042, Accuracy: 8164/10000 (81.64%)\n",
            "\n"
          ]
        },
        {
          "output_type": "stream",
          "name": "stderr",
          "text": [
            "EPOCH = 127 | LR = 0.001 | Loss = 0.81 | Batch = 390 | Accuracy = 77.08: 100%|██████████| 391/391 [00:23<00:00, 16.83it/s]\n"
          ]
        },
        {
          "output_type": "stream",
          "name": "stdout",
          "text": [
            "Test set: Average loss: 0.0043, Accuracy: 8196/10000 (81.96%)\n",
            "\n"
          ]
        },
        {
          "output_type": "stream",
          "name": "stderr",
          "text": [
            "EPOCH = 128 | LR = 0.001 | Loss = 0.44 | Batch = 390 | Accuracy = 76.93: 100%|██████████| 391/391 [00:23<00:00, 16.79it/s]\n"
          ]
        },
        {
          "output_type": "stream",
          "name": "stdout",
          "text": [
            "Test set: Average loss: 0.0042, Accuracy: 8223/10000 (82.23%)\n",
            "\n"
          ]
        },
        {
          "output_type": "stream",
          "name": "stderr",
          "text": [
            "EPOCH = 129 | LR = 0.001 | Loss = 0.71 | Batch = 390 | Accuracy = 76.80: 100%|██████████| 391/391 [00:23<00:00, 16.65it/s]\n"
          ]
        },
        {
          "output_type": "stream",
          "name": "stdout",
          "text": [
            "Test set: Average loss: 0.0042, Accuracy: 8238/10000 (82.38%)\n",
            "\n"
          ]
        },
        {
          "output_type": "stream",
          "name": "stderr",
          "text": [
            "EPOCH = 130 | LR = 0.001 | Loss = 0.56 | Batch = 390 | Accuracy = 76.89: 100%|██████████| 391/391 [00:23<00:00, 16.62it/s]\n"
          ]
        },
        {
          "output_type": "stream",
          "name": "stdout",
          "text": [
            "Test set: Average loss: 0.0042, Accuracy: 8231/10000 (82.31%)\n",
            "\n"
          ]
        },
        {
          "output_type": "stream",
          "name": "stderr",
          "text": [
            "EPOCH = 131 | LR = 0.001 | Loss = 0.77 | Batch = 390 | Accuracy = 76.67: 100%|██████████| 391/391 [00:23<00:00, 16.74it/s]\n"
          ]
        },
        {
          "output_type": "stream",
          "name": "stdout",
          "text": [
            "Test set: Average loss: 0.0041, Accuracy: 8213/10000 (82.13%)\n",
            "\n"
          ]
        },
        {
          "output_type": "stream",
          "name": "stderr",
          "text": [
            "EPOCH = 132 | LR = 0.001 | Loss = 0.61 | Batch = 390 | Accuracy = 76.92: 100%|██████████| 391/391 [00:23<00:00, 16.77it/s]\n"
          ]
        },
        {
          "output_type": "stream",
          "name": "stdout",
          "text": [
            "Test set: Average loss: 0.0042, Accuracy: 8219/10000 (82.19%)\n",
            "\n"
          ]
        },
        {
          "output_type": "stream",
          "name": "stderr",
          "text": [
            "EPOCH = 133 | LR = 0.001 | Loss = 0.62 | Batch = 390 | Accuracy = 77.21: 100%|██████████| 391/391 [00:23<00:00, 16.81it/s]\n"
          ]
        },
        {
          "output_type": "stream",
          "name": "stdout",
          "text": [
            "Test set: Average loss: 0.0042, Accuracy: 8213/10000 (82.13%)\n",
            "\n"
          ]
        },
        {
          "output_type": "stream",
          "name": "stderr",
          "text": [
            "EPOCH = 134 | LR = 0.001 | Loss = 0.59 | Batch = 390 | Accuracy = 77.31: 100%|██████████| 391/391 [00:23<00:00, 16.75it/s]\n"
          ]
        },
        {
          "output_type": "stream",
          "name": "stdout",
          "text": [
            "Test set: Average loss: 0.0041, Accuracy: 8234/10000 (82.34%)\n",
            "\n"
          ]
        },
        {
          "output_type": "stream",
          "name": "stderr",
          "text": [
            "EPOCH = 135 | LR = 0.001 | Loss = 0.61 | Batch = 390 | Accuracy = 77.23: 100%|██████████| 391/391 [00:23<00:00, 16.75it/s]\n"
          ]
        },
        {
          "output_type": "stream",
          "name": "stdout",
          "text": [
            "Test set: Average loss: 0.0041, Accuracy: 8267/10000 (82.67%)\n",
            "\n"
          ]
        },
        {
          "output_type": "stream",
          "name": "stderr",
          "text": [
            "EPOCH = 136 | LR = 0.001 | Loss = 0.60 | Batch = 390 | Accuracy = 77.44: 100%|██████████| 391/391 [00:23<00:00, 16.74it/s]\n"
          ]
        },
        {
          "output_type": "stream",
          "name": "stdout",
          "text": [
            "Test set: Average loss: 0.0041, Accuracy: 8266/10000 (82.66%)\n",
            "\n"
          ]
        },
        {
          "output_type": "stream",
          "name": "stderr",
          "text": [
            "EPOCH = 137 | LR = 0.001 | Loss = 0.71 | Batch = 390 | Accuracy = 77.42: 100%|██████████| 391/391 [00:23<00:00, 16.84it/s]\n"
          ]
        },
        {
          "output_type": "stream",
          "name": "stdout",
          "text": [
            "Test set: Average loss: 0.0041, Accuracy: 8259/10000 (82.59%)\n",
            "\n"
          ]
        },
        {
          "output_type": "stream",
          "name": "stderr",
          "text": [
            "EPOCH = 138 | LR = 0.001 | Loss = 0.67 | Batch = 390 | Accuracy = 77.58: 100%|██████████| 391/391 [00:23<00:00, 16.80it/s]\n"
          ]
        },
        {
          "output_type": "stream",
          "name": "stdout",
          "text": [
            "Test set: Average loss: 0.0041, Accuracy: 8266/10000 (82.66%)\n",
            "\n"
          ]
        },
        {
          "output_type": "stream",
          "name": "stderr",
          "text": [
            "EPOCH = 139 | LR = 0.001 | Loss = 0.75 | Batch = 390 | Accuracy = 77.69: 100%|██████████| 391/391 [00:23<00:00, 16.78it/s]\n"
          ]
        },
        {
          "output_type": "stream",
          "name": "stdout",
          "text": [
            "Test set: Average loss: 0.0040, Accuracy: 8236/10000 (82.36%)\n",
            "\n"
          ]
        },
        {
          "output_type": "stream",
          "name": "stderr",
          "text": [
            "EPOCH = 140 | LR = 0.001 | Loss = 0.65 | Batch = 390 | Accuracy = 77.52: 100%|██████████| 391/391 [00:23<00:00, 16.87it/s]\n"
          ]
        },
        {
          "output_type": "stream",
          "name": "stdout",
          "text": [
            "Test set: Average loss: 0.0040, Accuracy: 8293/10000 (82.93%)\n",
            "\n"
          ]
        },
        {
          "output_type": "stream",
          "name": "stderr",
          "text": [
            "EPOCH = 141 | LR = 0.001 | Loss = 0.67 | Batch = 390 | Accuracy = 77.77: 100%|██████████| 391/391 [00:23<00:00, 16.90it/s]\n"
          ]
        },
        {
          "output_type": "stream",
          "name": "stdout",
          "text": [
            "Test set: Average loss: 0.0041, Accuracy: 8303/10000 (83.03%)\n",
            "\n"
          ]
        },
        {
          "output_type": "stream",
          "name": "stderr",
          "text": [
            "EPOCH = 142 | LR = 0.001 | Loss = 0.54 | Batch = 390 | Accuracy = 77.76: 100%|██████████| 391/391 [00:23<00:00, 16.96it/s]\n"
          ]
        },
        {
          "output_type": "stream",
          "name": "stdout",
          "text": [
            "Test set: Average loss: 0.0040, Accuracy: 8299/10000 (82.99%)\n",
            "\n"
          ]
        },
        {
          "output_type": "stream",
          "name": "stderr",
          "text": [
            "EPOCH = 143 | LR = 0.001 | Loss = 0.49 | Batch = 390 | Accuracy = 77.83: 100%|██████████| 391/391 [00:22<00:00, 17.05it/s]\n"
          ]
        },
        {
          "output_type": "stream",
          "name": "stdout",
          "text": [
            "Test set: Average loss: 0.0040, Accuracy: 8299/10000 (82.99%)\n",
            "\n"
          ]
        },
        {
          "output_type": "stream",
          "name": "stderr",
          "text": [
            "EPOCH = 144 | LR = 0.001 | Loss = 0.54 | Batch = 390 | Accuracy = 77.69: 100%|██████████| 391/391 [00:23<00:00, 16.76it/s]\n"
          ]
        },
        {
          "output_type": "stream",
          "name": "stdout",
          "text": [
            "Test set: Average loss: 0.0040, Accuracy: 8318/10000 (83.18%)\n",
            "\n"
          ]
        },
        {
          "output_type": "stream",
          "name": "stderr",
          "text": [
            "EPOCH = 145 | LR = 0.001 | Loss = 0.56 | Batch = 390 | Accuracy = 77.78: 100%|██████████| 391/391 [00:23<00:00, 16.95it/s]\n"
          ]
        },
        {
          "output_type": "stream",
          "name": "stdout",
          "text": [
            "Test set: Average loss: 0.0041, Accuracy: 8289/10000 (82.89%)\n",
            "\n"
          ]
        },
        {
          "output_type": "stream",
          "name": "stderr",
          "text": [
            "EPOCH = 146 | LR = 0.001 | Loss = 0.61 | Batch = 390 | Accuracy = 77.85: 100%|██████████| 391/391 [00:23<00:00, 16.93it/s]\n"
          ]
        },
        {
          "output_type": "stream",
          "name": "stdout",
          "text": [
            "Test set: Average loss: 0.0040, Accuracy: 8277/10000 (82.77%)\n",
            "\n"
          ]
        },
        {
          "output_type": "stream",
          "name": "stderr",
          "text": [
            "EPOCH = 147 | LR = 0.001 | Loss = 0.47 | Batch = 390 | Accuracy = 77.94: 100%|██████████| 391/391 [00:23<00:00, 16.96it/s]\n"
          ]
        },
        {
          "output_type": "stream",
          "name": "stdout",
          "text": [
            "Test set: Average loss: 0.0040, Accuracy: 8301/10000 (83.01%)\n",
            "\n"
          ]
        },
        {
          "output_type": "stream",
          "name": "stderr",
          "text": [
            "EPOCH = 148 | LR = 0.001 | Loss = 0.81 | Batch = 390 | Accuracy = 78.09: 100%|██████████| 391/391 [00:23<00:00, 16.97it/s]\n"
          ]
        },
        {
          "output_type": "stream",
          "name": "stdout",
          "text": [
            "Test set: Average loss: 0.0040, Accuracy: 8280/10000 (82.80%)\n",
            "\n"
          ]
        },
        {
          "output_type": "stream",
          "name": "stderr",
          "text": [
            "EPOCH = 149 | LR = 0.001 | Loss = 0.81 | Batch = 390 | Accuracy = 77.97: 100%|██████████| 391/391 [00:23<00:00, 16.92it/s]\n"
          ]
        },
        {
          "output_type": "stream",
          "name": "stdout",
          "text": [
            "Test set: Average loss: 0.0040, Accuracy: 8303/10000 (83.03%)\n",
            "\n"
          ]
        },
        {
          "output_type": "stream",
          "name": "stderr",
          "text": [
            "EPOCH = 150 | LR = 0.001 | Loss = 0.65 | Batch = 390 | Accuracy = 78.27: 100%|██████████| 391/391 [00:23<00:00, 16.67it/s]\n"
          ]
        },
        {
          "output_type": "stream",
          "name": "stdout",
          "text": [
            "Test set: Average loss: 0.0039, Accuracy: 8343/10000 (83.43%)\n",
            "\n"
          ]
        },
        {
          "output_type": "stream",
          "name": "stderr",
          "text": [
            "EPOCH = 151 | LR = 0.001 | Loss = 0.57 | Batch = 390 | Accuracy = 78.34: 100%|██████████| 391/391 [00:23<00:00, 16.98it/s]\n"
          ]
        },
        {
          "output_type": "stream",
          "name": "stdout",
          "text": [
            "Test set: Average loss: 0.0040, Accuracy: 8276/10000 (82.76%)\n",
            "\n"
          ]
        },
        {
          "output_type": "stream",
          "name": "stderr",
          "text": [
            "EPOCH = 152 | LR = 0.001 | Loss = 0.68 | Batch = 390 | Accuracy = 78.24: 100%|██████████| 391/391 [00:23<00:00, 16.91it/s]\n"
          ]
        },
        {
          "output_type": "stream",
          "name": "stdout",
          "text": [
            "Test set: Average loss: 0.0040, Accuracy: 8312/10000 (83.12%)\n",
            "\n"
          ]
        },
        {
          "output_type": "stream",
          "name": "stderr",
          "text": [
            "EPOCH = 153 | LR = 0.001 | Loss = 0.60 | Batch = 390 | Accuracy = 78.18: 100%|██████████| 391/391 [00:23<00:00, 16.84it/s]\n"
          ]
        },
        {
          "output_type": "stream",
          "name": "stdout",
          "text": [
            "Test set: Average loss: 0.0040, Accuracy: 8294/10000 (82.94%)\n",
            "\n"
          ]
        },
        {
          "output_type": "stream",
          "name": "stderr",
          "text": [
            "EPOCH = 154 | LR = 0.001 | Loss = 0.62 | Batch = 390 | Accuracy = 78.34: 100%|██████████| 391/391 [00:23<00:00, 16.66it/s]\n"
          ]
        },
        {
          "output_type": "stream",
          "name": "stdout",
          "text": [
            "Test set: Average loss: 0.0040, Accuracy: 8328/10000 (83.28%)\n",
            "\n"
          ]
        },
        {
          "output_type": "stream",
          "name": "stderr",
          "text": [
            "EPOCH = 155 | LR = 0.001 | Loss = 0.66 | Batch = 390 | Accuracy = 78.39: 100%|██████████| 391/391 [00:23<00:00, 16.93it/s]\n"
          ]
        },
        {
          "output_type": "stream",
          "name": "stdout",
          "text": [
            "Test set: Average loss: 0.0039, Accuracy: 8319/10000 (83.19%)\n",
            "\n"
          ]
        },
        {
          "output_type": "stream",
          "name": "stderr",
          "text": [
            "EPOCH = 156 | LR = 0.001 | Loss = 0.67 | Batch = 390 | Accuracy = 78.42: 100%|██████████| 391/391 [00:23<00:00, 16.98it/s]\n"
          ]
        },
        {
          "output_type": "stream",
          "name": "stdout",
          "text": [
            "Test set: Average loss: 0.0039, Accuracy: 8327/10000 (83.27%)\n",
            "\n"
          ]
        },
        {
          "output_type": "stream",
          "name": "stderr",
          "text": [
            "EPOCH = 157 | LR = 0.001 | Loss = 0.59 | Batch = 390 | Accuracy = 78.48: 100%|██████████| 391/391 [00:23<00:00, 16.97it/s]\n"
          ]
        },
        {
          "output_type": "stream",
          "name": "stdout",
          "text": [
            "Test set: Average loss: 0.0040, Accuracy: 8330/10000 (83.30%)\n",
            "\n"
          ]
        },
        {
          "output_type": "stream",
          "name": "stderr",
          "text": [
            "EPOCH = 158 | LR = 0.001 | Loss = 0.66 | Batch = 390 | Accuracy = 78.24: 100%|██████████| 391/391 [00:23<00:00, 16.88it/s]\n"
          ]
        },
        {
          "output_type": "stream",
          "name": "stdout",
          "text": [
            "Test set: Average loss: 0.0040, Accuracy: 8317/10000 (83.17%)\n",
            "\n"
          ]
        },
        {
          "output_type": "stream",
          "name": "stderr",
          "text": [
            "EPOCH = 159 | LR = 0.001 | Loss = 0.50 | Batch = 390 | Accuracy = 78.36: 100%|██████████| 391/391 [00:22<00:00, 17.08it/s]\n"
          ]
        },
        {
          "output_type": "stream",
          "name": "stdout",
          "text": [
            "Test set: Average loss: 0.0040, Accuracy: 8311/10000 (83.11%)\n",
            "\n"
          ]
        },
        {
          "output_type": "stream",
          "name": "stderr",
          "text": [
            "EPOCH = 160 | LR = 0.001 | Loss = 0.57 | Batch = 390 | Accuracy = 78.39: 100%|██████████| 391/391 [00:23<00:00, 16.94it/s]\n"
          ]
        },
        {
          "output_type": "stream",
          "name": "stdout",
          "text": [
            "Test set: Average loss: 0.0040, Accuracy: 8309/10000 (83.09%)\n",
            "\n"
          ]
        },
        {
          "output_type": "stream",
          "name": "stderr",
          "text": [
            "EPOCH = 161 | LR = 0.001 | Loss = 0.53 | Batch = 390 | Accuracy = 78.85: 100%|██████████| 391/391 [00:23<00:00, 17.00it/s]\n"
          ]
        },
        {
          "output_type": "stream",
          "name": "stdout",
          "text": [
            "Test set: Average loss: 0.0040, Accuracy: 8298/10000 (82.98%)\n",
            "\n"
          ]
        },
        {
          "output_type": "stream",
          "name": "stderr",
          "text": [
            "EPOCH = 162 | LR = 0.001 | Loss = 0.52 | Batch = 390 | Accuracy = 78.71: 100%|██████████| 391/391 [00:22<00:00, 17.06it/s]\n"
          ]
        },
        {
          "output_type": "stream",
          "name": "stdout",
          "text": [
            "Test set: Average loss: 0.0040, Accuracy: 8326/10000 (83.26%)\n",
            "\n"
          ]
        },
        {
          "output_type": "stream",
          "name": "stderr",
          "text": [
            "EPOCH = 163 | LR = 0.001 | Loss = 0.44 | Batch = 390 | Accuracy = 78.60: 100%|██████████| 391/391 [00:22<00:00, 17.04it/s]\n"
          ]
        },
        {
          "output_type": "stream",
          "name": "stdout",
          "text": [
            "Test set: Average loss: 0.0039, Accuracy: 8345/10000 (83.45%)\n",
            "\n"
          ]
        },
        {
          "output_type": "stream",
          "name": "stderr",
          "text": [
            "EPOCH = 164 | LR = 0.001 | Loss = 0.67 | Batch = 390 | Accuracy = 78.57: 100%|██████████| 391/391 [00:23<00:00, 16.84it/s]\n"
          ]
        },
        {
          "output_type": "stream",
          "name": "stdout",
          "text": [
            "Test set: Average loss: 0.0039, Accuracy: 8316/10000 (83.16%)\n",
            "\n"
          ]
        },
        {
          "output_type": "stream",
          "name": "stderr",
          "text": [
            "EPOCH = 165 | LR = 0.001 | Loss = 0.73 | Batch = 390 | Accuracy = 78.64: 100%|██████████| 391/391 [00:22<00:00, 17.02it/s]\n"
          ]
        },
        {
          "output_type": "stream",
          "name": "stdout",
          "text": [
            "Test set: Average loss: 0.0039, Accuracy: 8320/10000 (83.20%)\n",
            "\n"
          ]
        },
        {
          "output_type": "stream",
          "name": "stderr",
          "text": [
            "EPOCH = 166 | LR = 0.001 | Loss = 0.75 | Batch = 390 | Accuracy = 78.73: 100%|██████████| 391/391 [00:22<00:00, 17.05it/s]\n"
          ]
        },
        {
          "output_type": "stream",
          "name": "stdout",
          "text": [
            "Test set: Average loss: 0.0039, Accuracy: 8314/10000 (83.14%)\n",
            "\n"
          ]
        },
        {
          "output_type": "stream",
          "name": "stderr",
          "text": [
            "EPOCH = 167 | LR = 0.001 | Loss = 0.60 | Batch = 390 | Accuracy = 78.57: 100%|██████████| 391/391 [00:22<00:00, 17.09it/s]\n"
          ]
        },
        {
          "output_type": "stream",
          "name": "stdout",
          "text": [
            "Test set: Average loss: 0.0039, Accuracy: 8321/10000 (83.21%)\n",
            "\n"
          ]
        },
        {
          "output_type": "stream",
          "name": "stderr",
          "text": [
            "EPOCH = 168 | LR = 0.001 | Loss = 0.66 | Batch = 390 | Accuracy = 78.70: 100%|██████████| 391/391 [00:23<00:00, 16.99it/s]\n"
          ]
        },
        {
          "output_type": "stream",
          "name": "stdout",
          "text": [
            "Test set: Average loss: 0.0039, Accuracy: 8311/10000 (83.11%)\n",
            "\n"
          ]
        },
        {
          "output_type": "stream",
          "name": "stderr",
          "text": [
            "EPOCH = 169 | LR = 0.001 | Loss = 0.61 | Batch = 390 | Accuracy = 78.93: 100%|██████████| 391/391 [00:22<00:00, 17.04it/s]\n"
          ]
        },
        {
          "output_type": "stream",
          "name": "stdout",
          "text": [
            "Test set: Average loss: 0.0040, Accuracy: 8289/10000 (82.89%)\n",
            "\n"
          ]
        },
        {
          "output_type": "stream",
          "name": "stderr",
          "text": [
            "EPOCH = 170 | LR = 0.001 | Loss = 0.50 | Batch = 390 | Accuracy = 78.93: 100%|██████████| 391/391 [00:23<00:00, 16.93it/s]\n"
          ]
        },
        {
          "output_type": "stream",
          "name": "stdout",
          "text": [
            "Test set: Average loss: 0.0040, Accuracy: 8316/10000 (83.16%)\n",
            "\n"
          ]
        },
        {
          "output_type": "stream",
          "name": "stderr",
          "text": [
            "EPOCH = 171 | LR = 0.001 | Loss = 0.61 | Batch = 390 | Accuracy = 79.30: 100%|██████████| 391/391 [00:22<00:00, 17.04it/s]\n"
          ]
        },
        {
          "output_type": "stream",
          "name": "stdout",
          "text": [
            "Test set: Average loss: 0.0040, Accuracy: 8317/10000 (83.17%)\n",
            "\n"
          ]
        },
        {
          "output_type": "stream",
          "name": "stderr",
          "text": [
            "EPOCH = 172 | LR = 0.001 | Loss = 0.57 | Batch = 390 | Accuracy = 78.83: 100%|██████████| 391/391 [00:22<00:00, 17.11it/s]\n"
          ]
        },
        {
          "output_type": "stream",
          "name": "stdout",
          "text": [
            "Test set: Average loss: 0.0039, Accuracy: 8348/10000 (83.48%)\n",
            "\n"
          ]
        },
        {
          "output_type": "stream",
          "name": "stderr",
          "text": [
            "EPOCH = 173 | LR = 0.001 | Loss = 0.54 | Batch = 390 | Accuracy = 79.01: 100%|██████████| 391/391 [00:22<00:00, 17.17it/s]\n"
          ]
        },
        {
          "output_type": "stream",
          "name": "stdout",
          "text": [
            "Test set: Average loss: 0.0039, Accuracy: 8339/10000 (83.39%)\n",
            "\n"
          ]
        },
        {
          "output_type": "stream",
          "name": "stderr",
          "text": [
            "EPOCH = 174 | LR = 0.001 | Loss = 0.48 | Batch = 390 | Accuracy = 79.25: 100%|██████████| 391/391 [00:22<00:00, 17.02it/s]\n"
          ]
        },
        {
          "output_type": "stream",
          "name": "stdout",
          "text": [
            "Test set: Average loss: 0.0039, Accuracy: 8377/10000 (83.77%)\n",
            "\n"
          ]
        },
        {
          "output_type": "stream",
          "name": "stderr",
          "text": [
            "EPOCH = 175 | LR = 0.001 | Loss = 0.60 | Batch = 390 | Accuracy = 79.30: 100%|██████████| 391/391 [00:22<00:00, 17.19it/s]\n"
          ]
        },
        {
          "output_type": "stream",
          "name": "stdout",
          "text": [
            "Test set: Average loss: 0.0038, Accuracy: 8400/10000 (84.00%)\n",
            "\n"
          ]
        },
        {
          "output_type": "stream",
          "name": "stderr",
          "text": [
            "EPOCH = 176 | LR = 0.001 | Loss = 0.43 | Batch = 390 | Accuracy = 79.23: 100%|██████████| 391/391 [00:22<00:00, 17.04it/s]\n"
          ]
        },
        {
          "output_type": "stream",
          "name": "stdout",
          "text": [
            "Test set: Average loss: 0.0039, Accuracy: 8337/10000 (83.37%)\n",
            "\n"
          ]
        },
        {
          "output_type": "stream",
          "name": "stderr",
          "text": [
            "EPOCH = 177 | LR = 0.001 | Loss = 0.64 | Batch = 390 | Accuracy = 78.89: 100%|██████████| 391/391 [00:22<00:00, 17.07it/s]\n"
          ]
        },
        {
          "output_type": "stream",
          "name": "stdout",
          "text": [
            "Test set: Average loss: 0.0039, Accuracy: 8337/10000 (83.37%)\n",
            "\n"
          ]
        },
        {
          "output_type": "stream",
          "name": "stderr",
          "text": [
            "EPOCH = 178 | LR = 0.001 | Loss = 0.62 | Batch = 390 | Accuracy = 79.26: 100%|██████████| 391/391 [00:23<00:00, 16.97it/s]\n"
          ]
        },
        {
          "output_type": "stream",
          "name": "stdout",
          "text": [
            "Test set: Average loss: 0.0040, Accuracy: 8289/10000 (82.89%)\n",
            "\n"
          ]
        },
        {
          "output_type": "stream",
          "name": "stderr",
          "text": [
            "EPOCH = 179 | LR = 0.001 | Loss = 0.65 | Batch = 390 | Accuracy = 79.43: 100%|██████████| 391/391 [00:22<00:00, 17.10it/s]\n"
          ]
        },
        {
          "output_type": "stream",
          "name": "stdout",
          "text": [
            "Test set: Average loss: 0.0038, Accuracy: 8368/10000 (83.68%)\n",
            "\n"
          ]
        },
        {
          "output_type": "stream",
          "name": "stderr",
          "text": [
            "EPOCH = 180 | LR = 0.001 | Loss = 0.55 | Batch = 390 | Accuracy = 79.23: 100%|██████████| 391/391 [00:22<00:00, 17.08it/s]\n"
          ]
        },
        {
          "output_type": "stream",
          "name": "stdout",
          "text": [
            "Test set: Average loss: 0.0038, Accuracy: 8375/10000 (83.75%)\n",
            "\n"
          ]
        },
        {
          "output_type": "stream",
          "name": "stderr",
          "text": [
            "EPOCH = 181 | LR = 0.001 | Loss = 0.89 | Batch = 390 | Accuracy = 79.75: 100%|██████████| 391/391 [00:23<00:00, 16.95it/s]\n"
          ]
        },
        {
          "output_type": "stream",
          "name": "stdout",
          "text": [
            "Test set: Average loss: 0.0038, Accuracy: 8368/10000 (83.68%)\n",
            "\n"
          ]
        },
        {
          "output_type": "stream",
          "name": "stderr",
          "text": [
            "EPOCH = 182 | LR = 0.001 | Loss = 0.72 | Batch = 390 | Accuracy = 79.34: 100%|██████████| 391/391 [00:22<00:00, 17.01it/s]\n"
          ]
        },
        {
          "output_type": "stream",
          "name": "stdout",
          "text": [
            "Test set: Average loss: 0.0039, Accuracy: 8329/10000 (83.29%)\n",
            "\n"
          ]
        },
        {
          "output_type": "stream",
          "name": "stderr",
          "text": [
            "EPOCH = 183 | LR = 0.001 | Loss = 0.53 | Batch = 390 | Accuracy = 79.39: 100%|██████████| 391/391 [00:22<00:00, 17.05it/s]\n"
          ]
        },
        {
          "output_type": "stream",
          "name": "stdout",
          "text": [
            "Test set: Average loss: 0.0041, Accuracy: 8286/10000 (82.86%)\n",
            "\n"
          ]
        },
        {
          "output_type": "stream",
          "name": "stderr",
          "text": [
            "EPOCH = 184 | LR = 0.001 | Loss = 0.73 | Batch = 390 | Accuracy = 79.38: 100%|██████████| 391/391 [00:23<00:00, 16.91it/s]\n"
          ]
        },
        {
          "output_type": "stream",
          "name": "stdout",
          "text": [
            "Test set: Average loss: 0.0038, Accuracy: 8370/10000 (83.70%)\n",
            "\n"
          ]
        },
        {
          "output_type": "stream",
          "name": "stderr",
          "text": [
            "EPOCH = 185 | LR = 0.001 | Loss = 0.63 | Batch = 390 | Accuracy = 79.48: 100%|██████████| 391/391 [00:23<00:00, 16.71it/s]\n"
          ]
        },
        {
          "output_type": "stream",
          "name": "stdout",
          "text": [
            "Test set: Average loss: 0.0039, Accuracy: 8331/10000 (83.31%)\n",
            "\n"
          ]
        },
        {
          "output_type": "stream",
          "name": "stderr",
          "text": [
            "EPOCH = 186 | LR = 0.001 | Loss = 0.50 | Batch = 390 | Accuracy = 79.57: 100%|██████████| 391/391 [00:23<00:00, 16.83it/s]\n"
          ]
        },
        {
          "output_type": "stream",
          "name": "stdout",
          "text": [
            "Test set: Average loss: 0.0038, Accuracy: 8378/10000 (83.78%)\n",
            "\n"
          ]
        },
        {
          "output_type": "stream",
          "name": "stderr",
          "text": [
            "EPOCH = 187 | LR = 0.001 | Loss = 0.75 | Batch = 390 | Accuracy = 79.89: 100%|██████████| 391/391 [00:23<00:00, 16.94it/s]\n"
          ]
        },
        {
          "output_type": "stream",
          "name": "stdout",
          "text": [
            "Test set: Average loss: 0.0038, Accuracy: 8381/10000 (83.81%)\n",
            "\n"
          ]
        },
        {
          "output_type": "stream",
          "name": "stderr",
          "text": [
            "EPOCH = 188 | LR = 0.001 | Loss = 0.71 | Batch = 390 | Accuracy = 79.71: 100%|██████████| 391/391 [00:23<00:00, 16.82it/s]\n"
          ]
        },
        {
          "output_type": "stream",
          "name": "stdout",
          "text": [
            "Test set: Average loss: 0.0038, Accuracy: 8369/10000 (83.69%)\n",
            "\n"
          ]
        },
        {
          "output_type": "stream",
          "name": "stderr",
          "text": [
            "EPOCH = 189 | LR = 0.001 | Loss = 0.82 | Batch = 390 | Accuracy = 79.59: 100%|██████████| 391/391 [00:23<00:00, 16.92it/s]\n"
          ]
        },
        {
          "output_type": "stream",
          "name": "stdout",
          "text": [
            "Test set: Average loss: 0.0039, Accuracy: 8371/10000 (83.71%)\n",
            "\n"
          ]
        },
        {
          "output_type": "stream",
          "name": "stderr",
          "text": [
            "EPOCH = 190 | LR = 0.001 | Loss = 0.50 | Batch = 390 | Accuracy = 79.71: 100%|██████████| 391/391 [00:22<00:00, 17.09it/s]\n"
          ]
        },
        {
          "output_type": "stream",
          "name": "stdout",
          "text": [
            "Test set: Average loss: 0.0039, Accuracy: 8328/10000 (83.28%)\n",
            "\n"
          ]
        },
        {
          "output_type": "stream",
          "name": "stderr",
          "text": [
            "EPOCH = 191 | LR = 0.001 | Loss = 0.69 | Batch = 390 | Accuracy = 79.93: 100%|██████████| 391/391 [00:23<00:00, 16.94it/s]\n"
          ]
        },
        {
          "output_type": "stream",
          "name": "stdout",
          "text": [
            "Test set: Average loss: 0.0038, Accuracy: 8374/10000 (83.74%)\n",
            "\n"
          ]
        },
        {
          "output_type": "stream",
          "name": "stderr",
          "text": [
            "EPOCH = 192 | LR = 0.001 | Loss = 0.52 | Batch = 390 | Accuracy = 79.88: 100%|██████████| 391/391 [00:22<00:00, 17.14it/s]\n"
          ]
        },
        {
          "output_type": "stream",
          "name": "stdout",
          "text": [
            "Test set: Average loss: 0.0038, Accuracy: 8378/10000 (83.78%)\n",
            "\n"
          ]
        },
        {
          "output_type": "stream",
          "name": "stderr",
          "text": [
            "EPOCH = 193 | LR = 0.001 | Loss = 0.58 | Batch = 390 | Accuracy = 79.95: 100%|██████████| 391/391 [00:22<00:00, 17.01it/s]\n"
          ]
        },
        {
          "output_type": "stream",
          "name": "stdout",
          "text": [
            "Test set: Average loss: 0.0038, Accuracy: 8404/10000 (84.04%)\n",
            "\n"
          ]
        },
        {
          "output_type": "stream",
          "name": "stderr",
          "text": [
            "EPOCH = 194 | LR = 0.001 | Loss = 0.54 | Batch = 390 | Accuracy = 79.69: 100%|██████████| 391/391 [00:23<00:00, 16.91it/s]\n"
          ]
        },
        {
          "output_type": "stream",
          "name": "stdout",
          "text": [
            "Test set: Average loss: 0.0039, Accuracy: 8383/10000 (83.83%)\n",
            "\n"
          ]
        },
        {
          "output_type": "stream",
          "name": "stderr",
          "text": [
            "EPOCH = 195 | LR = 0.001 | Loss = 0.69 | Batch = 390 | Accuracy = 79.98: 100%|██████████| 391/391 [00:23<00:00, 16.97it/s]\n"
          ]
        },
        {
          "output_type": "stream",
          "name": "stdout",
          "text": [
            "Test set: Average loss: 0.0038, Accuracy: 8431/10000 (84.31%)\n",
            "\n"
          ]
        },
        {
          "output_type": "stream",
          "name": "stderr",
          "text": [
            "EPOCH = 196 | LR = 0.001 | Loss = 0.52 | Batch = 390 | Accuracy = 79.84: 100%|██████████| 391/391 [00:22<00:00, 17.14it/s]\n"
          ]
        },
        {
          "output_type": "stream",
          "name": "stdout",
          "text": [
            "Test set: Average loss: 0.0038, Accuracy: 8392/10000 (83.92%)\n",
            "\n"
          ]
        },
        {
          "output_type": "stream",
          "name": "stderr",
          "text": [
            "EPOCH = 197 | LR = 0.001 | Loss = 0.50 | Batch = 390 | Accuracy = 79.96: 100%|██████████| 391/391 [00:22<00:00, 17.23it/s]\n"
          ]
        },
        {
          "output_type": "stream",
          "name": "stdout",
          "text": [
            "Test set: Average loss: 0.0038, Accuracy: 8408/10000 (84.08%)\n",
            "\n"
          ]
        },
        {
          "output_type": "stream",
          "name": "stderr",
          "text": [
            "EPOCH = 198 | LR = 0.001 | Loss = 0.53 | Batch = 390 | Accuracy = 79.93: 100%|██████████| 391/391 [00:22<00:00, 17.23it/s]\n"
          ]
        },
        {
          "output_type": "stream",
          "name": "stdout",
          "text": [
            "Test set: Average loss: 0.0038, Accuracy: 8394/10000 (83.94%)\n",
            "\n"
          ]
        },
        {
          "output_type": "stream",
          "name": "stderr",
          "text": [
            "EPOCH = 199 | LR = 0.001 | Loss = 0.66 | Batch = 390 | Accuracy = 80.09: 100%|██████████| 391/391 [00:23<00:00, 16.63it/s]\n"
          ]
        },
        {
          "output_type": "stream",
          "name": "stdout",
          "text": [
            "Test set: Average loss: 0.0037, Accuracy: 8424/10000 (84.24%)\n",
            "\n"
          ]
        }
      ],
      "source": [
        "import torch.optim as optim\n",
        "import torch.nn as nn\n",
        "\n",
        "trainer = Trainer()\n",
        "tester = Tester()\n",
        "optimizer = optim.SGD(model.parameters(), lr=0.001, momentum=0.9)\n",
        "criterion = nn.NLLLoss()\n",
        "\n",
        "EPOCHS = 200\n",
        "\n",
        "for epoch in range(EPOCHS):\n",
        "    trainer.train(model, train_loader, optimizer, criterion, device, epoch)\n",
        "    tester.test(model, test_loader, criterion, device)"
      ]
    },
    {
      "cell_type": "markdown",
      "metadata": {
        "id": "CF6DfHg6pGdY"
      },
      "source": [
        "# **Min and Max**\n"
      ]
    },
    {
      "cell_type": "code",
      "execution_count": 11,
      "metadata": {
        "colab": {
          "base_uri": "https://localhost:8080/"
        },
        "id": "6BUuNY6gpKbQ",
        "outputId": "33b8e5ee-844f-44bc-f584-fc526777374c"
      },
      "outputs": [
        {
          "output_type": "stream",
          "name": "stdout",
          "text": [
            "Minimum training loss = 0.326763570%\n",
            "Minimum testing loss = 0.003746615%\n",
            "Best training accuracy = 80.09%\n",
            "Best testing accuracy = 84.31%\n"
          ]
        }
      ],
      "source": [
        "print(\"Minimum training loss = {:.9f}%\".format(min(trainer.train_losses)))\n",
        "print(\"Minimum testing loss = {:.9f}%\".format(min(tester.test_losses)))\n",
        "print(\"Best training accuracy = {:.2f}%\".format(max(trainer.epoch_train_accuracies)))\n",
        "print(\"Best testing accuracy = {:.2f}%\".format(max(tester.test_accuracies)))"
      ]
    },
    {
      "cell_type": "code",
      "execution_count": 12,
      "metadata": {
        "id": "ozzfpEBXrHvP"
      },
      "outputs": [],
      "source": [
        "%matplotlib inline\n",
        "import matplotlib.pyplot as plt\n",
        "import numpy as np\n",
        "\n",
        "def denormalize(img):\n",
        "    channel_means = (0.4914, 0.4822, 0.4465)\n",
        "    channel_stdevs = (0.2470, 0.2435, 0.2616)\n",
        "    img = img.astype(dtype=np.float32)\n",
        "\n",
        "    for i in range(img.shape[0]):\n",
        "        img[i] = (img[i] * channel_stdevs[i]) + channel_means[i]\n",
        "\n",
        "    return np.transpose(img, (1, 2, 0))\n",
        "\n",
        "def show_training_images(train_loader, count):\n",
        "    classes = (\n",
        "            \"plane\",\n",
        "            \"car\",\n",
        "            \"bird\",\n",
        "            \"cat\",\n",
        "            \"deer\",\n",
        "            \"dog\",\n",
        "            \"frog\",\n",
        "            \"horse\",\n",
        "            \"ship\",\n",
        "            \"truck\",\n",
        "    )\n",
        "\n",
        "    images, labels = next(iter(train_loader))\n",
        "    images = images[0:count]\n",
        "    labels = labels[0:count]\n",
        "\n",
        "    fig = plt.figure(figsize=(20, 10))\n",
        "    for i in range(count):\n",
        "        sub = fig.add_subplot(count/5, 5, i+1)\n",
        "        npimg = denormalize(images[i].cpu().numpy().squeeze())\n",
        "        plt.imshow(npimg, cmap=\"gray\")\n",
        "        sub.set_title(\"Correct class: {}\".format(classes[labels[i]]))\n",
        "    plt.tight_layout()\n",
        "    plt.show()"
      ]
    },
    {
      "cell_type": "markdown",
      "metadata": {
        "id": "cFQFk4XLt9wh"
      },
      "source": [
        "# **Sample Training images**\n"
      ]
    },
    {
      "cell_type": "markdown",
      "metadata": {
        "id": "gt8z60g3LyqO"
      },
      "source": [
        "## Showing Misclassified Images"
      ]
    },
    {
      "cell_type": "code",
      "execution_count": 15,
      "metadata": {
        "id": "pOW1X1VsL2tU"
      },
      "outputs": [],
      "source": [
        "%matplotlib inline\n",
        "import matplotlib.pyplot as plt\n",
        "import numpy as np\n",
        "\n",
        "def show_misclassified_images(model, test_loader, device):\n",
        "    model.eval()\n",
        "    classes = (\n",
        "            \"plane\",\n",
        "            \"car\",\n",
        "            \"bird\",\n",
        "            \"cat\",\n",
        "            \"deer\",\n",
        "            \"dog\",\n",
        "            \"frog\",\n",
        "            \"horse\",\n",
        "            \"ship\",\n",
        "            \"truck\",\n",
        "    )\n",
        "    misclassified_images = []\n",
        "\n",
        "    with torch.no_grad():\n",
        "        for data, target in test_loader:\n",
        "            data, target = data.to(device), target.to(device)\n",
        "            output = model(data)\n",
        "            _, pred = torch.max(output, 1)\n",
        "            for i in range(len(pred)):\n",
        "                if pred[i] != target[i]:\n",
        "                    misclassified_images.append({'image': data[i], 'predicted_class': classes[pred[i]], 'correct_class': classes[target[i]]})\n",
        "\n",
        "    # Plot the misclassified images\n",
        "    fig = plt.figure(figsize=(20, 10))\n",
        "    for i in range(20):\n",
        "        sub = fig.add_subplot(4, 5, i+1)\n",
        "        misclassified_image = misclassified_images[i]\n",
        "        npimg = denormalize(misclassified_image['image'].cpu().numpy().squeeze())\n",
        "        plt.imshow(npimg, cmap=\"gray\")\n",
        "        sub.set_title(\"Correct class: {}\\nPredicted class: {}\".format(misclassified_image['correct_class'], misclassified_image['predicted_class']))\n",
        "    plt.tight_layout()\n",
        "    plt.show()"
      ]
    },
    {
      "cell_type": "code",
      "execution_count": 16,
      "metadata": {
        "id": "YVpkG7bCMYsM",
        "colab": {
          "base_uri": "https://localhost:8080/",
          "height": 1000
        },
        "outputId": "d9f7da16-da3a-4cf3-f6a9-2df1acfb7565"
      },
      "outputs": [
        {
          "output_type": "stream",
          "name": "stderr",
          "text": [
            "/usr/lib/python3.10/multiprocessing/popen_fork.py:66: RuntimeWarning: os.fork() was called. os.fork() is incompatible with multithreaded code, and JAX is multithreaded, so this will likely lead to a deadlock.\n",
            "  self.pid = os.fork()\n",
            "/usr/lib/python3.10/multiprocessing/popen_fork.py:66: RuntimeWarning: os.fork() was called. os.fork() is incompatible with multithreaded code, and JAX is multithreaded, so this will likely lead to a deadlock.\n",
            "  self.pid = os.fork()\n"
          ]
        },
        {
          "output_type": "display_data",
          "data": {
            "text/plain": [
              "<Figure size 2000x1000 with 20 Axes>"
            ],
            "image/png": "[encoded data removed]"
          },
          "metadata": {}
        }
      ],
      "source": [
        "show_misclassified_images(model, test_loader, device)"
      ]
    },
    {
      "cell_type": "markdown",
      "metadata": {
        "id": "oOle71BtkcLW"
      },
      "source": [
        "# **Loss and Accuracy Graphs**\n"
      ]
    },
    {
      "cell_type": "code",
      "execution_count": 17,
      "metadata": {
        "id": "TwSKQSCfkgjh",
        "colab": {
          "base_uri": "https://localhost:8080/",
          "height": 1000
        },
        "outputId": "67372526-9226-4f95-88b1-bb7e0af75cd3"
      },
      "outputs": [
        {
          "output_type": "display_data",
          "data": {
            "text/plain": [
              "<Figure size 2800x1800 with 4 Axes>"
            ],
            "image/png": "[encoded data removed]"
          },
          "metadata": {}
        }
      ],
      "source": [
        "fig, ax = plt.subplots(2, 2)\n",
        "\n",
        "train_epoch_loss_linspace = np.linspace(0, EPOCHS, len(trainer.train_losses))\n",
        "test_epoch_loss_linspace = np.linspace(0, EPOCHS, len(tester.test_losses))\n",
        "train_epoch_acc_linspace = np.linspace(0, EPOCHS, len(trainer.train_accuracies))\n",
        "test_epoch_acc_linspace = np.linspace(0, EPOCHS, len(tester.test_accuracies))\n",
        "\n",
        "ax[0][0].set_xlabel(\"Epoch\")\n",
        "ax[0][0].set_ylabel(\"Train Loss\")\n",
        "ax[0][0].plot(train_epoch_loss_linspace, trainer.train_losses)\n",
        "ax[0][0].tick_params(axis=\"y\", labelleft=True, labelright=True)\n",
        "\n",
        "ax[0][1].set_xlabel(\"Epoch\")\n",
        "ax[0][1].set_ylabel(\"Test Loss\")\n",
        "ax[0][1].plot(test_epoch_loss_linspace, tester.test_losses)\n",
        "ax[0][1].tick_params(axis=\"y\", labelleft=True, labelright=True)\n",
        "\n",
        "ax[1][0].set_xlabel(\"Epoch\")\n",
        "ax[1][0].set_ylabel(\"Train Accuracy\")\n",
        "ax[1][0].plot(train_epoch_acc_linspace, trainer.train_accuracies)\n",
        "ax[1][0].tick_params(axis=\"y\", labelleft=True, labelright=True)\n",
        "ax[1][0].yaxis.set_ticks(np.arange(0, 101, 5))\n",
        "\n",
        "ax[1][1].set_xlabel(\"Epoch\")\n",
        "ax[1][1].set_ylabel(\"Test Accuracy\")\n",
        "ax[1][1].plot(test_epoch_acc_linspace, tester.test_accuracies)\n",
        "ax[1][1].tick_params(axis=\"y\", labelleft=True, labelright=True)\n",
        "ax[1][1].yaxis.set_ticks(np.arange(0, 101, 5))\n",
        "\n",
        "fig.set_size_inches(28, 18)\n",
        "plt.tight_layout()\n",
        "plt.show()"
      ]
    }
  ],
  "metadata": {
    "accelerator": "GPU",
    "colab": {
      "provenance": [],
      "gpuType": "T4",
      "collapsed_sections": [
        "3OQPlLj8t79j",
        "Es6weYkct79j",
        "IFvPg7Kat79k",
        "0-5Z9q-Ht79k",
        "CgHg2MdmwAbd"
      ]
    },
    "kernelspec": {
      "display_name": "Python 3",
      "name": "python3"
    },
    "language_info": {
      "codemirror_mode": {
        "name": "ipython",
        "version": 3
      },
      "file_extension": ".py",
      "mimetype": "text/x-python",
      "name": "python",
      "nbconvert_exporter": "python",
      "pygments_lexer": "ipython3",
      "version": "3.10.12"
    }
  },
  "nbformat": 4,
  "nbformat_minor": 0
}